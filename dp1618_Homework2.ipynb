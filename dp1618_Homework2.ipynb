{
 "cells": [
  {
   "cell_type": "markdown",
   "metadata": {},
   "source": [
    "# Homework 02 --- Session 3, Multilinear regression"
   ]
  },
  {
   "cell_type": "code",
   "execution_count": 77,
   "metadata": {
    "collapsed": false
   },
   "outputs": [
    {
     "name": "stdout",
     "output_type": "stream",
     "text": [
      "Populating the interactive namespace from numpy and matplotlib\n"
     ]
    }
   ],
   "source": [
    "import numpy as np   # basic numeric module in python, for array and matrix computation\n",
    "import pandas as pd  # advanced numeric module, excels in data frame analysis\n",
    "import matplotlib.pyplot as plt  # for data visualization\n",
    "%pylab inline\n",
    "# so the plots are embedded in notebook rather than a stand alone window\n",
    "\n",
    "from mpl_toolkits.mplot3d import Axes3D  # for 3D plot\n",
    "import statsmodels.formula.api as smf    # for OLS regression"
   ]
  },
  {
   "cell_type": "markdown",
   "metadata": {
    "collapsed": true
   },
   "source": [
    "## EX 1 Artificial data (25pt -- 5+5+5+10)\n",
    "### Dataset 'https://serv.cusp.nyu.edu/~cq299/ADS2016/Data/H31.csv'\n",
    "### Tasks:\n",
    "Consider a multivariate regression of the output variable $y$ over the 3 regressors $x_1$, $x_2$, $x_3$ as follows.\n",
    "* (a) Which one of the regressors serves as dummy variable corresponding to an intercept term?\n",
    "    * Ignore the first column since it's just a duplicate index (You can avoid it by running **ex1 = pd.read_csv('https://serv.cusp.nyu.edu/~cq299/ADS2016/Data/H31.csv', index_col=0)** )\n",
    "* (b) Calculate the coefficients $\\hat w$ manually or with python *numpy* module by using matrix computation.\n",
    "* (c) Verify your answer by implementing the OLS regression function with python *statsmodels* module.\n",
    "* (d) Visualize the data points and your fitted model in a 3D plot, like we did in the lab session."
   ]
  },
  {
   "cell_type": "code",
   "execution_count": 78,
   "metadata": {
    "collapsed": true
   },
   "outputs": [],
   "source": [
    "#import the data as ex1\n",
    "ex1 = pd.read_csv('https://serv.cusp.nyu.edu/~cq299/ADS2016/Data/H31.csv', index_col=0)"
   ]
  },
  {
   "cell_type": "code",
   "execution_count": 79,
   "metadata": {
    "collapsed": false
   },
   "outputs": [
    {
     "data": {
      "text/html": [
       "<div>\n",
       "<table border=\"1\" class=\"dataframe\">\n",
       "  <thead>\n",
       "    <tr style=\"text-align: right;\">\n",
       "      <th></th>\n",
       "      <th>y</th>\n",
       "      <th>x1</th>\n",
       "      <th>x2</th>\n",
       "      <th>x3</th>\n",
       "    </tr>\n",
       "  </thead>\n",
       "  <tbody>\n",
       "    <tr>\n",
       "      <th>1</th>\n",
       "      <td>0</td>\n",
       "      <td>1</td>\n",
       "      <td>-2</td>\n",
       "      <td>1</td>\n",
       "    </tr>\n",
       "    <tr>\n",
       "      <th>2</th>\n",
       "      <td>2</td>\n",
       "      <td>1</td>\n",
       "      <td>-1</td>\n",
       "      <td>-1</td>\n",
       "    </tr>\n",
       "    <tr>\n",
       "      <th>3</th>\n",
       "      <td>2</td>\n",
       "      <td>1</td>\n",
       "      <td>0</td>\n",
       "      <td>0</td>\n",
       "    </tr>\n",
       "    <tr>\n",
       "      <th>4</th>\n",
       "      <td>3</td>\n",
       "      <td>1</td>\n",
       "      <td>1</td>\n",
       "      <td>-1</td>\n",
       "    </tr>\n",
       "    <tr>\n",
       "      <th>5</th>\n",
       "      <td>3</td>\n",
       "      <td>1</td>\n",
       "      <td>2</td>\n",
       "      <td>1</td>\n",
       "    </tr>\n",
       "  </tbody>\n",
       "</table>\n",
       "</div>"
      ],
      "text/plain": [
       "   y  x1  x2  x3\n",
       "1  0   1  -2   1\n",
       "2  2   1  -1  -1\n",
       "3  2   1   0   0\n",
       "4  3   1   1  -1\n",
       "5  3   1   2   1"
      ]
     },
     "execution_count": 79,
     "metadata": {},
     "output_type": "execute_result"
    }
   ],
   "source": [
    "#look at the data \n",
    "ex1.head()"
   ]
  },
  {
   "cell_type": "markdown",
   "metadata": {},
   "source": [
    "#####Part a: x1 serves as the dummy variable corresponding to the intercept term since all values of x1 are 1. "
   ]
  },
  {
   "cell_type": "markdown",
   "metadata": {},
   "source": [
    "#####Part b"
   ]
  },
  {
   "cell_type": "code",
   "execution_count": 80,
   "metadata": {
    "collapsed": false
   },
   "outputs": [
    {
     "name": "stdout",
     "output_type": "stream",
     "text": [
      "the coefficient matrix is [[ 2. ]\n",
      " [ 0.7]\n",
      " [-0.5]]\n"
     ]
    }
   ],
   "source": [
    "X = np.matrix(ex1.loc[:,['x1','x2','x3']])\n",
    "Y = np.matrix(ex1.y).T\n",
    "w = (X.T * X).I * X.T * Y\n",
    "print \"the coefficient matrix is\", w"
   ]
  },
  {
   "cell_type": "markdown",
   "metadata": {},
   "source": [
    "#####Part c"
   ]
  },
  {
   "cell_type": "code",
   "execution_count": 81,
   "metadata": {
    "collapsed": false
   },
   "outputs": [
    {
     "name": "stdout",
     "output_type": "stream",
     "text": [
      "R2 = 0.983333\n",
      "Intercept    2.0\n",
      "x2           0.7\n",
      "x3          -0.5\n",
      "dtype: float64\n"
     ]
    }
   ],
   "source": [
    "lm1 = smf.ols(formula = 'y ~ x2 + x3', data = ex1).fit()\n",
    "print('R2 = %f'%lm1.rsquared)\n",
    "print(lm1.params)"
   ]
  },
  {
   "cell_type": "markdown",
   "metadata": {},
   "source": [
    "#####Part d"
   ]
  },
  {
   "cell_type": "code",
   "execution_count": 82,
   "metadata": {
    "collapsed": false
   },
   "outputs": [
    {
     "data": {
      "image/png": "[encoded data removed]",
      "text/plain": [
       "<matplotlib.figure.Figure at 0x1138f9490>"
      ]
     },
     "metadata": {},
     "output_type": "display_data"
    }
   ],
   "source": [
    "fig = plt.figure(figsize = (12,10))  # Create a plot with customized figure size (width, height)\n",
    "ax = fig.gca(projection='3d')  # Extract the axis for further operations\n",
    "ax.scatter(ex1.x2, ex1.x3, ex1.y, s = 100,  c = 'r')\n",
    "# Scatter plot, \"c\" stands for color, and \"s\" determines the marker size\n",
    "\n",
    "# Generate coordinates for hyperplane\n",
    "radius = 5\n",
    "x2, x3 = np.meshgrid(range(-radius,radius), range(-radius,radius))\n",
    "fit_y = lm1.params[0] + lm1.params[1] * x2 + lm1.params[2] * x3\n",
    "\n",
    "# alpha (between 0 and 1) controls the transparency with 0 being totally transparent\n",
    "ax.plot_surface(x2, x3, fit_y, color='c', alpha = 0.4)\n",
    "# Set labels and fontsize\n",
    "ax.set_xlabel('$x_2$', fontsize = 20)\n",
    "ax.set_ylabel('$x_3$', fontsize = 20)\n",
    "ax.set_zlabel('$y$', fontsize = 20)\n",
    "\n",
    "ax.view_init(azim = 45)   # Controls the viewing angle"
   ]
  },
  {
   "cell_type": "markdown",
   "metadata": {},
   "source": [
    "## EX 2, Income vs Insurance coverage (35+10pt -- 10+10+5+10+10)\n",
    "### Dataset 'https://serv.cusp.nyu.edu/~cq299/ADS2016/Data/IncomeInsReg.csv'\n",
    "You are given the demographic data of insurance coverage in NYC, with the details:\n",
    "* Zip code\n",
    "* Total population (for each zip code)\n",
    "* Population with No Insurance coverage\n",
    "* Population with Insurance coverage\n",
    "    * Population with Public Insurance coverage\n",
    "    * Population with Private Insurance coverage\n",
    "\n",
    "### Tasks:\n",
    "* (a) Verify that there are some people with BOTH public insurance and private insurance according to this data set, then create a new column containing such information\n",
    "* (b) Modify the old data frame, or simply create a new one, such that this data frame contains (including but not limited to) the following information in each zipcode area:\n",
    "    * IncomePerCapita\n",
    "    * Total Population\n",
    "    * Population with NO Insurance coverage\n",
    "    * Population with Public Insurance coverage ONLY\n",
    "    * Population with Private Insurance coverage ONLY\n",
    "    * Population with BOTH types of Insurance coverage\n",
    "* (c) Similar to the lab example, drop the parts with NaN(if any), convert all population number into proportion (percentage, with the form 58.3 instead of 0.583)\n",
    "* (d) Regress over these proportions (the ones mentioned in part b, leave out \"No Insurance Coverage\") -- What interesting results do we have here? Briefly state what you've obtained.\n",
    "#### Extra credit:\n",
    "* (e) Visualize the observed income versus the predicted income, like what we did in the lab session. Does this fitted line look great or not? If you're not sure, check the correlation matrix and make a guess."
   ]
  },
  {
   "cell_type": "markdown",
   "metadata": {},
   "source": [
    "Part A Verify that there are some people with BOTH public insurance and private insurance according to this data set, then create a new column containing such information"
   ]
  },
  {
   "cell_type": "code",
   "execution_count": 76,
   "metadata": {
    "collapsed": false
   },
   "outputs": [],
   "source": [
    "ex2 = pd.read_csv('https://serv.cusp.nyu.edu/~cq299/ADS2016/Data/IncomeInsReg.csv')"
   ]
  },
  {
   "cell_type": "code",
   "execution_count": 40,
   "metadata": {
    "collapsed": false
   },
   "outputs": [
    {
     "data": {
      "text/html": [
       "<div>\n",
       "<table border=\"1\" class=\"dataframe\">\n",
       "  <thead>\n",
       "    <tr style=\"text-align: right;\">\n",
       "      <th></th>\n",
       "      <th>Zipcode</th>\n",
       "      <th>IncomePerCapita</th>\n",
       "      <th>TotalPop</th>\n",
       "      <th>NoCoverage</th>\n",
       "      <th>WithCoverage</th>\n",
       "      <th>Public</th>\n",
       "      <th>Private</th>\n",
       "      <th>BothCoverage</th>\n",
       "    </tr>\n",
       "  </thead>\n",
       "  <tbody>\n",
       "    <tr>\n",
       "      <th>0</th>\n",
       "      <td>10001</td>\n",
       "      <td>77512</td>\n",
       "      <td>22767</td>\n",
       "      <td>1958</td>\n",
       "      <td>20809</td>\n",
       "      <td>5800</td>\n",
       "      <td>16795</td>\n",
       "      <td>1786</td>\n",
       "    </tr>\n",
       "    <tr>\n",
       "      <th>1</th>\n",
       "      <td>10002</td>\n",
       "      <td>26905</td>\n",
       "      <td>79490</td>\n",
       "      <td>9129</td>\n",
       "      <td>70361</td>\n",
       "      <td>40139</td>\n",
       "      <td>35167</td>\n",
       "      <td>4945</td>\n",
       "    </tr>\n",
       "    <tr>\n",
       "      <th>2</th>\n",
       "      <td>10003</td>\n",
       "      <td>79088</td>\n",
       "      <td>56909</td>\n",
       "      <td>3774</td>\n",
       "      <td>53135</td>\n",
       "      <td>8593</td>\n",
       "      <td>48522</td>\n",
       "      <td>3980</td>\n",
       "    </tr>\n",
       "    <tr>\n",
       "      <th>3</th>\n",
       "      <td>10004</td>\n",
       "      <td>98020</td>\n",
       "      <td>3024</td>\n",
       "      <td>244</td>\n",
       "      <td>2780</td>\n",
       "      <td>180</td>\n",
       "      <td>2705</td>\n",
       "      <td>105</td>\n",
       "    </tr>\n",
       "    <tr>\n",
       "      <th>4</th>\n",
       "      <td>10005</td>\n",
       "      <td>99633</td>\n",
       "      <td>7566</td>\n",
       "      <td>570</td>\n",
       "      <td>6996</td>\n",
       "      <td>122</td>\n",
       "      <td>6944</td>\n",
       "      <td>70</td>\n",
       "    </tr>\n",
       "  </tbody>\n",
       "</table>\n",
       "</div>"
      ],
      "text/plain": [
       "   Zipcode  IncomePerCapita  TotalPop  NoCoverage  WithCoverage  Public  \\\n",
       "0    10001            77512     22767        1958         20809    5800   \n",
       "1    10002            26905     79490        9129         70361   40139   \n",
       "2    10003            79088     56909        3774         53135    8593   \n",
       "3    10004            98020      3024         244          2780     180   \n",
       "4    10005            99633      7566         570          6996     122   \n",
       "\n",
       "   Private  BothCoverage  \n",
       "0    16795          1786  \n",
       "1    35167          4945  \n",
       "2    48522          3980  \n",
       "3     2705           105  \n",
       "4     6944            70  "
      ]
     },
     "execution_count": 40,
     "metadata": {},
     "output_type": "execute_result"
    }
   ],
   "source": [
    "ex2.head() #view the data structure"
   ]
  },
  {
   "cell_type": "code",
   "execution_count": 83,
   "metadata": {
    "collapsed": false
   },
   "outputs": [
    {
     "data": {
      "text/plain": [
       "0"
      ]
     },
     "execution_count": 83,
     "metadata": {},
     "output_type": "execute_result"
    }
   ],
   "source": [
    "# If two things are equal, then Boolean operation (a == b) would return \n",
    "# True which can be intepreted as integer 1 in Python, thus if the product \n",
    "# is 1 then all entries must be 1 (one False would cause the multiplication\n",
    "# to yield 0).  In this case, if the product = 0 then public + private is\n",
    "# greater than total with coverage, so some people must have both\n",
    "\n",
    "prod(ex2.Public + ex2.Private == ex2.WithCoverage)"
   ]
  },
  {
   "cell_type": "code",
   "execution_count": 87,
   "metadata": {
    "collapsed": true
   },
   "outputs": [],
   "source": [
    "ex2['Coverage'] = ex2.Public + ex2.Private != ex2.WithCoverage"
   ]
  },
  {
   "cell_type": "code",
   "execution_count": 88,
   "metadata": {
    "collapsed": true
   },
   "outputs": [],
   "source": [
    "#Make a new column to store the number of people with both coverages\n",
    "#This will be the number with public + the number with private - the number\n",
    "#of people covered\n",
    "ex2['BothCoverage'] = ex2.Public + ex2.Private - ex2.WithCoverage"
   ]
  },
  {
   "cell_type": "code",
   "execution_count": 89,
   "metadata": {
    "collapsed": false
   },
   "outputs": [
    {
     "data": {
      "text/html": [
       "<div>\n",
       "<table border=\"1\" class=\"dataframe\">\n",
       "  <thead>\n",
       "    <tr style=\"text-align: right;\">\n",
       "      <th></th>\n",
       "      <th>Zipcode</th>\n",
       "      <th>IncomePerCapita</th>\n",
       "      <th>TotalPop</th>\n",
       "      <th>NoCoverage</th>\n",
       "      <th>WithCoverage</th>\n",
       "      <th>Public</th>\n",
       "      <th>Private</th>\n",
       "      <th>Coverage</th>\n",
       "      <th>BothCoverage</th>\n",
       "    </tr>\n",
       "  </thead>\n",
       "  <tbody>\n",
       "    <tr>\n",
       "      <th>0</th>\n",
       "      <td>10001</td>\n",
       "      <td>77512</td>\n",
       "      <td>22767</td>\n",
       "      <td>1958</td>\n",
       "      <td>20809</td>\n",
       "      <td>5800</td>\n",
       "      <td>16795</td>\n",
       "      <td>True</td>\n",
       "      <td>1786</td>\n",
       "    </tr>\n",
       "    <tr>\n",
       "      <th>1</th>\n",
       "      <td>10002</td>\n",
       "      <td>26905</td>\n",
       "      <td>79490</td>\n",
       "      <td>9129</td>\n",
       "      <td>70361</td>\n",
       "      <td>40139</td>\n",
       "      <td>35167</td>\n",
       "      <td>True</td>\n",
       "      <td>4945</td>\n",
       "    </tr>\n",
       "    <tr>\n",
       "      <th>2</th>\n",
       "      <td>10003</td>\n",
       "      <td>79088</td>\n",
       "      <td>56909</td>\n",
       "      <td>3774</td>\n",
       "      <td>53135</td>\n",
       "      <td>8593</td>\n",
       "      <td>48522</td>\n",
       "      <td>True</td>\n",
       "      <td>3980</td>\n",
       "    </tr>\n",
       "    <tr>\n",
       "      <th>3</th>\n",
       "      <td>10004</td>\n",
       "      <td>98020</td>\n",
       "      <td>3024</td>\n",
       "      <td>244</td>\n",
       "      <td>2780</td>\n",
       "      <td>180</td>\n",
       "      <td>2705</td>\n",
       "      <td>True</td>\n",
       "      <td>105</td>\n",
       "    </tr>\n",
       "    <tr>\n",
       "      <th>4</th>\n",
       "      <td>10005</td>\n",
       "      <td>99633</td>\n",
       "      <td>7566</td>\n",
       "      <td>570</td>\n",
       "      <td>6996</td>\n",
       "      <td>122</td>\n",
       "      <td>6944</td>\n",
       "      <td>True</td>\n",
       "      <td>70</td>\n",
       "    </tr>\n",
       "  </tbody>\n",
       "</table>\n",
       "</div>"
      ],
      "text/plain": [
       "   Zipcode  IncomePerCapita  TotalPop  NoCoverage  WithCoverage  Public  \\\n",
       "0    10001            77512     22767        1958         20809    5800   \n",
       "1    10002            26905     79490        9129         70361   40139   \n",
       "2    10003            79088     56909        3774         53135    8593   \n",
       "3    10004            98020      3024         244          2780     180   \n",
       "4    10005            99633      7566         570          6996     122   \n",
       "\n",
       "   Private Coverage  BothCoverage  \n",
       "0    16795     True          1786  \n",
       "1    35167     True          4945  \n",
       "2    48522     True          3980  \n",
       "3     2705     True           105  \n",
       "4     6944     True            70  "
      ]
     },
     "execution_count": 89,
     "metadata": {},
     "output_type": "execute_result"
    }
   ],
   "source": [
    "ex2.head()"
   ]
  },
  {
   "cell_type": "markdown",
   "metadata": {},
   "source": [
    "Part B Modify the old data frame, or simply create a new one, such that this data frame contains (including but not limited to) the following information in each zipcode area:\n",
    "IncomePerCapita\n",
    "Total Population\n",
    "Population with NO Insurance coverage\n",
    "Population with Public Insurance coverage ONLY\n",
    "Population with Private Insurance coverage ONLY\n",
    "Population with BOTH types of Insurance coverage"
   ]
  },
  {
   "cell_type": "code",
   "execution_count": 54,
   "metadata": {
    "collapsed": false
   },
   "outputs": [
    {
     "data": {
      "text/html": [
       "<div>\n",
       "<table border=\"1\" class=\"dataframe\">\n",
       "  <thead>\n",
       "    <tr style=\"text-align: right;\">\n",
       "      <th></th>\n",
       "      <th>Zipcode</th>\n",
       "      <th>IncomePerCapita</th>\n",
       "      <th>TotalPop</th>\n",
       "      <th>NoCoverage</th>\n",
       "      <th>WithCoverage</th>\n",
       "      <th>Public</th>\n",
       "      <th>Private</th>\n",
       "      <th>BothCoverage</th>\n",
       "      <th>pub_only</th>\n",
       "      <th>priv_only</th>\n",
       "    </tr>\n",
       "  </thead>\n",
       "  <tbody>\n",
       "    <tr>\n",
       "      <th>0</th>\n",
       "      <td>10001</td>\n",
       "      <td>77512</td>\n",
       "      <td>22767</td>\n",
       "      <td>1958</td>\n",
       "      <td>20809</td>\n",
       "      <td>5800</td>\n",
       "      <td>16795</td>\n",
       "      <td>1786</td>\n",
       "      <td>4014</td>\n",
       "      <td>15009</td>\n",
       "    </tr>\n",
       "    <tr>\n",
       "      <th>1</th>\n",
       "      <td>10002</td>\n",
       "      <td>26905</td>\n",
       "      <td>79490</td>\n",
       "      <td>9129</td>\n",
       "      <td>70361</td>\n",
       "      <td>40139</td>\n",
       "      <td>35167</td>\n",
       "      <td>4945</td>\n",
       "      <td>35194</td>\n",
       "      <td>30222</td>\n",
       "    </tr>\n",
       "    <tr>\n",
       "      <th>2</th>\n",
       "      <td>10003</td>\n",
       "      <td>79088</td>\n",
       "      <td>56909</td>\n",
       "      <td>3774</td>\n",
       "      <td>53135</td>\n",
       "      <td>8593</td>\n",
       "      <td>48522</td>\n",
       "      <td>3980</td>\n",
       "      <td>4613</td>\n",
       "      <td>44542</td>\n",
       "    </tr>\n",
       "    <tr>\n",
       "      <th>3</th>\n",
       "      <td>10004</td>\n",
       "      <td>98020</td>\n",
       "      <td>3024</td>\n",
       "      <td>244</td>\n",
       "      <td>2780</td>\n",
       "      <td>180</td>\n",
       "      <td>2705</td>\n",
       "      <td>105</td>\n",
       "      <td>75</td>\n",
       "      <td>2600</td>\n",
       "    </tr>\n",
       "    <tr>\n",
       "      <th>4</th>\n",
       "      <td>10005</td>\n",
       "      <td>99633</td>\n",
       "      <td>7566</td>\n",
       "      <td>570</td>\n",
       "      <td>6996</td>\n",
       "      <td>122</td>\n",
       "      <td>6944</td>\n",
       "      <td>70</td>\n",
       "      <td>52</td>\n",
       "      <td>6874</td>\n",
       "    </tr>\n",
       "  </tbody>\n",
       "</table>\n",
       "</div>"
      ],
      "text/plain": [
       "   Zipcode  IncomePerCapita  TotalPop  NoCoverage  WithCoverage  Public  \\\n",
       "0    10001            77512     22767        1958         20809    5800   \n",
       "1    10002            26905     79490        9129         70361   40139   \n",
       "2    10003            79088     56909        3774         53135    8593   \n",
       "3    10004            98020      3024         244          2780     180   \n",
       "4    10005            99633      7566         570          6996     122   \n",
       "\n",
       "   Private  BothCoverage  pub_only  priv_only  \n",
       "0    16795          1786      4014      15009  \n",
       "1    35167          4945     35194      30222  \n",
       "2    48522          3980      4613      44542  \n",
       "3     2705           105        75       2600  \n",
       "4     6944            70        52       6874  "
      ]
     },
     "execution_count": 54,
     "metadata": {},
     "output_type": "execute_result"
    }
   ],
   "source": [
    "#modify the dataframe to add columns with public coverage only (pub_only)\n",
    "#and private coverage only (priv_only)\n",
    "ex2['pub_only'] = ex2.Public - ex2.BothCoverage\n",
    "ex2['priv_only'] = ex2.Private - ex2.BothCoverage\n",
    "ex2.head()"
   ]
  },
  {
   "cell_type": "code",
   "execution_count": 58,
   "metadata": {
    "collapsed": false
   },
   "outputs": [
    {
     "data": {
      "text/plain": [
       "1"
      ]
     },
     "execution_count": 58,
     "metadata": {},
     "output_type": "execute_result"
    }
   ],
   "source": [
    "#Check that the sum of the both coverage, privonly and pubonly is the total covered\n",
    "prod(ex2.BothCoverage + ex2.priv_only + ex2.pub_only == ex2.WithCoverage)"
   ]
  },
  {
   "cell_type": "markdown",
   "metadata": {},
   "source": [
    "Part C Similar to the lab example, drop the parts with NaN(if any), convert all population number into proportion (percentage, with the form 58.3 instead of 0.583)"
   ]
  },
  {
   "cell_type": "code",
   "execution_count": 57,
   "metadata": {
    "collapsed": true
   },
   "outputs": [],
   "source": [
    "#drop the parts with NaN(if any) \n",
    "ex2.dropna(inplace = True)"
   ]
  },
  {
   "cell_type": "code",
   "execution_count": 71,
   "metadata": {
    "collapsed": false
   },
   "outputs": [
    {
     "data": {
      "text/html": [
       "<div>\n",
       "<table border=\"1\" class=\"dataframe\">\n",
       "  <thead>\n",
       "    <tr style=\"text-align: right;\">\n",
       "      <th></th>\n",
       "      <th>Zipcode</th>\n",
       "      <th>IncomePerCapita</th>\n",
       "      <th>TotalPop</th>\n",
       "      <th>NoCoverage</th>\n",
       "      <th>WithCoverage</th>\n",
       "      <th>Public</th>\n",
       "      <th>Private</th>\n",
       "      <th>BothCoverage</th>\n",
       "      <th>pub_only</th>\n",
       "      <th>priv_only</th>\n",
       "    </tr>\n",
       "  </thead>\n",
       "  <tbody>\n",
       "    <tr>\n",
       "      <th>0</th>\n",
       "      <td>10001</td>\n",
       "      <td>77512</td>\n",
       "      <td>22767</td>\n",
       "      <td>8.600167</td>\n",
       "      <td>91.399833</td>\n",
       "      <td>25.475469</td>\n",
       "      <td>73.769052</td>\n",
       "      <td>7.844687</td>\n",
       "      <td>17.630781</td>\n",
       "      <td>65.924364</td>\n",
       "    </tr>\n",
       "    <tr>\n",
       "      <th>1</th>\n",
       "      <td>10002</td>\n",
       "      <td>26905</td>\n",
       "      <td>79490</td>\n",
       "      <td>11.484463</td>\n",
       "      <td>88.515537</td>\n",
       "      <td>50.495660</td>\n",
       "      <td>44.240785</td>\n",
       "      <td>6.220908</td>\n",
       "      <td>44.274752</td>\n",
       "      <td>38.019877</td>\n",
       "    </tr>\n",
       "    <tr>\n",
       "      <th>2</th>\n",
       "      <td>10003</td>\n",
       "      <td>79088</td>\n",
       "      <td>56909</td>\n",
       "      <td>6.631640</td>\n",
       "      <td>93.368360</td>\n",
       "      <td>15.099545</td>\n",
       "      <td>85.262437</td>\n",
       "      <td>6.993621</td>\n",
       "      <td>8.105923</td>\n",
       "      <td>78.268815</td>\n",
       "    </tr>\n",
       "    <tr>\n",
       "      <th>3</th>\n",
       "      <td>10004</td>\n",
       "      <td>98020</td>\n",
       "      <td>3024</td>\n",
       "      <td>8.068783</td>\n",
       "      <td>91.931217</td>\n",
       "      <td>5.952381</td>\n",
       "      <td>89.451058</td>\n",
       "      <td>3.472222</td>\n",
       "      <td>2.480159</td>\n",
       "      <td>85.978836</td>\n",
       "    </tr>\n",
       "    <tr>\n",
       "      <th>4</th>\n",
       "      <td>10005</td>\n",
       "      <td>99633</td>\n",
       "      <td>7566</td>\n",
       "      <td>7.533703</td>\n",
       "      <td>92.466297</td>\n",
       "      <td>1.612477</td>\n",
       "      <td>91.779011</td>\n",
       "      <td>0.925192</td>\n",
       "      <td>0.687285</td>\n",
       "      <td>90.853820</td>\n",
       "    </tr>\n",
       "  </tbody>\n",
       "</table>\n",
       "</div>"
      ],
      "text/plain": [
       "   Zipcode  IncomePerCapita  TotalPop  NoCoverage  WithCoverage     Public  \\\n",
       "0    10001            77512     22767    8.600167     91.399833  25.475469   \n",
       "1    10002            26905     79490   11.484463     88.515537  50.495660   \n",
       "2    10003            79088     56909    6.631640     93.368360  15.099545   \n",
       "3    10004            98020      3024    8.068783     91.931217   5.952381   \n",
       "4    10005            99633      7566    7.533703     92.466297   1.612477   \n",
       "\n",
       "     Private  BothCoverage   pub_only  priv_only  \n",
       "0  73.769052      7.844687  17.630781  65.924364  \n",
       "1  44.240785      6.220908  44.274752  38.019877  \n",
       "2  85.262437      6.993621   8.105923  78.268815  \n",
       "3  89.451058      3.472222   2.480159  85.978836  \n",
       "4  91.779011      0.925192   0.687285  90.853820  "
      ]
     },
     "execution_count": 71,
     "metadata": {},
     "output_type": "execute_result"
    }
   ],
   "source": [
    "#convert all population number into proportion \n",
    "#(percentage, with the form 58.3 instead of 0.583)\n",
    "data2 = pd.concat([ex2.Zipcode, ex2.IncomePerCapita, ex2.TotalPop,  \n",
    "        100*ex2.iloc[:,3:].div(ex2.TotalPop, axis = 0)],  # Compute the percentage, column-wise\n",
    "        axis = 1)\n",
    "data2.head()"
   ]
  },
  {
   "cell_type": "markdown",
   "metadata": {},
   "source": [
    "Part D Regress over these proportions (the ones mentioned in part b, leave out \"No Insurance Coverage\") -- What interesting results do we have here? Briefly state what you've obtained."
   ]
  },
  {
   "cell_type": "code",
   "execution_count": 72,
   "metadata": {
    "collapsed": false
   },
   "outputs": [
    {
     "name": "stdout",
     "output_type": "stream",
     "text": [
      "                            OLS Regression Results                            \n",
      "==============================================================================\n",
      "Dep. Variable:        IncomePerCapita   R-squared:                       0.622\n",
      "Model:                            OLS   Adj. R-squared:                  0.616\n",
      "Method:                 Least Squares   F-statistic:                     97.17\n",
      "Date:                Wed, 28 Sep 2016   Prob (F-statistic):           3.25e-37\n",
      "Time:                        13:58:53   Log-Likelihood:                -2033.2\n",
      "No. Observations:                 181   AIC:                             4074.\n",
      "Df Residuals:                     177   BIC:                             4087.\n",
      "Df Model:                           3                                         \n",
      "Covariance Type:            nonrobust                                         \n",
      "================================================================================\n",
      "                   coef    std err          t      P>|t|      [95.0% Conf. Int.]\n",
      "--------------------------------------------------------------------------------\n",
      "Intercept    -6.303e+04   2.76e+04     -2.280      0.024     -1.18e+05 -8485.237\n",
      "pub_only       385.7767    373.326      1.033      0.303      -350.966  1122.519\n",
      "priv_only     1621.5031    299.395      5.416      0.000      1030.660  2212.346\n",
      "BothCoverage   911.0964    344.185      2.647      0.009       231.863  1590.330\n",
      "==============================================================================\n",
      "Omnibus:                       46.950   Durbin-Watson:                   1.164\n",
      "Prob(Omnibus):                  0.000   Jarque-Bera (JB):               94.094\n",
      "Skew:                           1.213   Prob(JB):                     3.70e-21\n",
      "Kurtosis:                       5.567   Cond. No.                     1.21e+03\n",
      "==============================================================================\n",
      "\n",
      "Warnings:\n",
      "[1] Standard Errors assume that the covariance matrix of the errors is correctly specified.\n",
      "[2] The condition number is large, 1.21e+03. This might indicate that there are\n",
      "strong multicollinearity or other numerical problems.\n"
     ]
    }
   ],
   "source": [
    "lm2 = smf.ols(formula = 'IncomePerCapita ~ pub_only + priv_only + BothCoverage', data = data2).fit()\n",
    "print(lm2.summary())"
   ]
  },
  {
   "cell_type": "code",
   "execution_count": 73,
   "metadata": {
    "collapsed": false
   },
   "outputs": [
    {
     "name": "stdout",
     "output_type": "stream",
     "text": [
      "R2 = 0.622215\n",
      "Intercept      -63030.644620\n",
      "pub_only          385.776670\n",
      "priv_only        1621.503140\n",
      "BothCoverage      911.096431\n",
      "dtype: float64\n"
     ]
    }
   ],
   "source": [
    "print('R2 = %f'%lm2.rsquared)\n",
    "print(lm2.params)"
   ]
  },
  {
   "cell_type": "markdown",
   "metadata": {},
   "source": [
    "Private insurance (and both insurance) are a stronger indicator of income than public insurance.  This implies that the more people in a zip code have private insurance or both insurances, the higher the income per capita is.  The intercept is negative in this case, implying that if no one in the zipcode has insurance, the income is a negative number (the people in the zipcode cost money or need government assistance). "
   ]
  },
  {
   "cell_type": "markdown",
   "metadata": {},
   "source": [
    "(e) Visualize the observed income versus the predicted income, like what we did in the lab session. Does this fitted line look great or not? If you're not sure, check the correlation matrix and make a guess."
   ]
  },
  {
   "cell_type": "code",
   "execution_count": 74,
   "metadata": {
    "collapsed": false
   },
   "outputs": [
    {
     "data": {
      "text/plain": [
       "<matplotlib.text.Text at 0x1138f7bd0>"
      ]
     },
     "execution_count": 74,
     "metadata": {},
     "output_type": "execute_result"
    },
    {
     "data": {
      "image/png": "[encoded data removed]",
      "text/plain": [
       "<matplotlib.figure.Figure at 0x10781ad90>"
      ]
     },
     "metadata": {},
     "output_type": "display_data"
    }
   ],
   "source": [
    "#Plot the data\n",
    "y_fit = lm2.predict(data2)   # Calculate the predicted value\n",
    "plt.figure(figsize = (8,6))\n",
    "plt.plot(y_fit,data2.IncomePerCapita,'or', markersize = 8) # Plot the observed value, linestyle = 'or', red dots\n",
    "plt.plot(y_fit,y_fit,'--b', linewidth = 1)                 # Plot the predicted value, blue dashed line\n",
    "\n",
    "# Plot setting\n",
    "plt.xlabel('Prediction', fontsize = 16)\n",
    "plt.ylabel('Observation', fontsize = 16)"
   ]
  },
  {
   "cell_type": "code",
   "execution_count": 75,
   "metadata": {
    "collapsed": false
   },
   "outputs": [
    {
     "data": {
      "text/html": [
       "<div>\n",
       "<table border=\"1\" class=\"dataframe\">\n",
       "  <thead>\n",
       "    <tr style=\"text-align: right;\">\n",
       "      <th></th>\n",
       "      <th>Zipcode</th>\n",
       "      <th>IncomePerCapita</th>\n",
       "      <th>TotalPop</th>\n",
       "      <th>NoCoverage</th>\n",
       "      <th>WithCoverage</th>\n",
       "      <th>Public</th>\n",
       "      <th>Private</th>\n",
       "      <th>BothCoverage</th>\n",
       "      <th>pub_only</th>\n",
       "      <th>priv_only</th>\n",
       "    </tr>\n",
       "  </thead>\n",
       "  <tbody>\n",
       "    <tr>\n",
       "      <th>Zipcode</th>\n",
       "      <td>1.000000</td>\n",
       "      <td>-0.490675</td>\n",
       "      <td>0.115875</td>\n",
       "      <td>0.334912</td>\n",
       "      <td>-0.334912</td>\n",
       "      <td>0.232870</td>\n",
       "      <td>-0.279087</td>\n",
       "      <td>0.032335</td>\n",
       "      <td>0.219494</td>\n",
       "      <td>-0.299357</td>\n",
       "    </tr>\n",
       "    <tr>\n",
       "      <th>IncomePerCapita</th>\n",
       "      <td>-0.490675</td>\n",
       "      <td>1.000000</td>\n",
       "      <td>-0.374920</td>\n",
       "      <td>-0.602753</td>\n",
       "      <td>0.602753</td>\n",
       "      <td>-0.713251</td>\n",
       "      <td>0.779469</td>\n",
       "      <td>0.101578</td>\n",
       "      <td>-0.746417</td>\n",
       "      <td>0.778040</td>\n",
       "    </tr>\n",
       "    <tr>\n",
       "      <th>TotalPop</th>\n",
       "      <td>0.115875</td>\n",
       "      <td>-0.374920</td>\n",
       "      <td>1.000000</td>\n",
       "      <td>0.381392</td>\n",
       "      <td>-0.381392</td>\n",
       "      <td>0.379426</td>\n",
       "      <td>-0.470548</td>\n",
       "      <td>-0.179863</td>\n",
       "      <td>0.443568</td>\n",
       "      <td>-0.433830</td>\n",
       "    </tr>\n",
       "    <tr>\n",
       "      <th>NoCoverage</th>\n",
       "      <td>0.334912</td>\n",
       "      <td>-0.602753</td>\n",
       "      <td>0.381392</td>\n",
       "      <td>1.000000</td>\n",
       "      <td>-1.000000</td>\n",
       "      <td>0.431746</td>\n",
       "      <td>-0.755231</td>\n",
       "      <td>-0.344447</td>\n",
       "      <td>0.556389</td>\n",
       "      <td>-0.679430</td>\n",
       "    </tr>\n",
       "    <tr>\n",
       "      <th>WithCoverage</th>\n",
       "      <td>-0.334912</td>\n",
       "      <td>0.602753</td>\n",
       "      <td>-0.381392</td>\n",
       "      <td>-1.000000</td>\n",
       "      <td>1.000000</td>\n",
       "      <td>-0.431746</td>\n",
       "      <td>0.755231</td>\n",
       "      <td>0.344447</td>\n",
       "      <td>-0.556389</td>\n",
       "      <td>0.679430</td>\n",
       "    </tr>\n",
       "    <tr>\n",
       "      <th>Public</th>\n",
       "      <td>0.232870</td>\n",
       "      <td>-0.713251</td>\n",
       "      <td>0.379426</td>\n",
       "      <td>0.431746</td>\n",
       "      <td>-0.431746</td>\n",
       "      <td>1.000000</td>\n",
       "      <td>-0.871228</td>\n",
       "      <td>0.169275</td>\n",
       "      <td>0.931315</td>\n",
       "      <td>-0.955171</td>\n",
       "    </tr>\n",
       "    <tr>\n",
       "      <th>Private</th>\n",
       "      <td>-0.279087</td>\n",
       "      <td>0.779469</td>\n",
       "      <td>-0.470548</td>\n",
       "      <td>-0.755231</td>\n",
       "      <td>0.755231</td>\n",
       "      <td>-0.871228</td>\n",
       "      <td>1.000000</td>\n",
       "      <td>0.267759</td>\n",
       "      <td>-0.964837</td>\n",
       "      <td>0.956594</td>\n",
       "    </tr>\n",
       "    <tr>\n",
       "      <th>BothCoverage</th>\n",
       "      <td>0.032335</td>\n",
       "      <td>0.101578</td>\n",
       "      <td>-0.179863</td>\n",
       "      <td>-0.344447</td>\n",
       "      <td>0.344447</td>\n",
       "      <td>0.169275</td>\n",
       "      <td>0.267759</td>\n",
       "      <td>1.000000</td>\n",
       "      <td>-0.201309</td>\n",
       "      <td>-0.024644</td>\n",
       "    </tr>\n",
       "    <tr>\n",
       "      <th>pub_only</th>\n",
       "      <td>0.219494</td>\n",
       "      <td>-0.746417</td>\n",
       "      <td>0.443568</td>\n",
       "      <td>0.556389</td>\n",
       "      <td>-0.556389</td>\n",
       "      <td>0.931315</td>\n",
       "      <td>-0.964837</td>\n",
       "      <td>-0.201309</td>\n",
       "      <td>1.000000</td>\n",
       "      <td>-0.940209</td>\n",
       "    </tr>\n",
       "    <tr>\n",
       "      <th>priv_only</th>\n",
       "      <td>-0.299357</td>\n",
       "      <td>0.778040</td>\n",
       "      <td>-0.433830</td>\n",
       "      <td>-0.679430</td>\n",
       "      <td>0.679430</td>\n",
       "      <td>-0.955171</td>\n",
       "      <td>0.956594</td>\n",
       "      <td>-0.024644</td>\n",
       "      <td>-0.940209</td>\n",
       "      <td>1.000000</td>\n",
       "    </tr>\n",
       "  </tbody>\n",
       "</table>\n",
       "</div>"
      ],
      "text/plain": [
       "                  Zipcode  IncomePerCapita  TotalPop  NoCoverage  \\\n",
       "Zipcode          1.000000        -0.490675  0.115875    0.334912   \n",
       "IncomePerCapita -0.490675         1.000000 -0.374920   -0.602753   \n",
       "TotalPop         0.115875        -0.374920  1.000000    0.381392   \n",
       "NoCoverage       0.334912        -0.602753  0.381392    1.000000   \n",
       "WithCoverage    -0.334912         0.602753 -0.381392   -1.000000   \n",
       "Public           0.232870        -0.713251  0.379426    0.431746   \n",
       "Private         -0.279087         0.779469 -0.470548   -0.755231   \n",
       "BothCoverage     0.032335         0.101578 -0.179863   -0.344447   \n",
       "pub_only         0.219494        -0.746417  0.443568    0.556389   \n",
       "priv_only       -0.299357         0.778040 -0.433830   -0.679430   \n",
       "\n",
       "                 WithCoverage    Public   Private  BothCoverage  pub_only  \\\n",
       "Zipcode             -0.334912  0.232870 -0.279087      0.032335  0.219494   \n",
       "IncomePerCapita      0.602753 -0.713251  0.779469      0.101578 -0.746417   \n",
       "TotalPop            -0.381392  0.379426 -0.470548     -0.179863  0.443568   \n",
       "NoCoverage          -1.000000  0.431746 -0.755231     -0.344447  0.556389   \n",
       "WithCoverage         1.000000 -0.431746  0.755231      0.344447 -0.556389   \n",
       "Public              -0.431746  1.000000 -0.871228      0.169275  0.931315   \n",
       "Private              0.755231 -0.871228  1.000000      0.267759 -0.964837   \n",
       "BothCoverage         0.344447  0.169275  0.267759      1.000000 -0.201309   \n",
       "pub_only            -0.556389  0.931315 -0.964837     -0.201309  1.000000   \n",
       "priv_only            0.679430 -0.955171  0.956594     -0.024644 -0.940209   \n",
       "\n",
       "                 priv_only  \n",
       "Zipcode          -0.299357  \n",
       "IncomePerCapita   0.778040  \n",
       "TotalPop         -0.433830  \n",
       "NoCoverage       -0.679430  \n",
       "WithCoverage      0.679430  \n",
       "Public           -0.955171  \n",
       "Private           0.956594  \n",
       "BothCoverage     -0.024644  \n",
       "pub_only         -0.940209  \n",
       "priv_only         1.000000  "
      ]
     },
     "execution_count": 75,
     "metadata": {},
     "output_type": "execute_result"
    }
   ],
   "source": [
    "#Check Correlation Matrix\n",
    "data2.corr()"
   ]
  },
  {
   "cell_type": "markdown",
   "metadata": {},
   "source": [
    "Based on the results of the regression and the above plot, it looks like there might actually be two different regressions required.  One for Income Per Capita is less than $50,000 and one for Income Per Capita above $50,000.  Because the regression is attempting to account for both parts of this data, the regression is missing the trended predictions.  "
   ]
  },
  {
   "cell_type": "markdown",
   "metadata": {},
   "source": [
    "## EX 3, Polynomial fit (40+30pt -- 4+5+3$\\times$4+5+3$\\times$3+5+30)\n",
    "\n",
    "### Try to fit y with a polynomial $$\\hat y(x,w) = \\sum\\limits_{i=1}^M w_i\\cdot x^i$$ with the given dataset 'https://serv.cusp.nyu.edu/~cq299/ADS2016/Data/H33.csv'\n",
    "\n",
    "### Tasks:\n",
    "* (a) Draw the scatter plot of x and y, guess what polynomial could be the best choice. (The name \"x1\" denotes $x^1$.)\n",
    "* (b) Create new columns in data frame to contain the information of $x^2, x^3, x^4$\n",
    "* (c) Try to fit y with polynomial of x with order 1, 2, 3, 4, respectively\n",
    "    * For each model, store your fitted parameters as well as your $R^2$\n",
    "* (d) Report the $R^2$, plot it and observe how it changes\n",
    "* (e) Create a figure with four(4) subfigures, then in each subfigure:\n",
    "    * (e.1) Draw the scatter plot\n",
    "    * (e.2) Plot the curve of true function $f(x) = 9x^2 - x + 1$\n",
    "    * (e.3) Plot your fitted curve, observe how our model fits the data as M increases\n",
    "* (f) Based on the plot, which model(s) fits the true curve best? Then provide the best coefficients $\\hat w$\n",
    "### Extra credit\n",
    "* (g) In each subfigure:\n",
    "    * (g.1) Pick a x value (at your discretion) $x_0$, then locate the y value both on your fitted curve and on our function curve ($f(x_0)$)\n",
    "    * (g.2) Mark these two points with a small diamond, then draw a dashed line connecting them, showing \"prediction error\" (You can read the lecture slides and find some inspiration at the end.)\n",
    "    * (g.3) Repeat g.1 and g.2 up to ten times (i.e. select up to ten different future points and predict their values, compare your prediction with the true value), then:\n",
    "        * Compute the average sum of squares of errors $E = \\frac{\\sum_i^n (y_i - f(x_i))^2}{n}$ ($x_i$ denotes your future points), mention it in your subfigure's title (**Be sure to use the SAME future points for ALL 4 models when you calculate prediction error**)\n",
    "        * Which model has the smallest average error $E$? Does this fitted polynomial coincides with the M you picked in part f?"
   ]
  },
  {
   "cell_type": "code",
   "execution_count": null,
   "metadata": {
    "collapsed": true
   },
   "outputs": [],
   "source": []
  }
 ],
 "metadata": {
  "kernelspec": {
   "display_name": "Python 2",
   "language": "python",
   "name": "python2"
  },
  "language_info": {
   "codemirror_mode": {
    "name": "ipython",
    "version": 2
   },
   "file_extension": ".py",
   "mimetype": "text/x-python",
   "name": "python",
   "nbconvert_exporter": "python",
   "pygments_lexer": "ipython2",
   "version": "2.7.10"
  }
 },
 "nbformat": 4,
 "nbformat_minor": 0
}
