{
 "cells": [
  {
   "cell_type": "markdown",
   "metadata": {},
   "source": [
    "### Question (1): (10pt)\n",
    "\n",
    "Suppose that the independent variable $x$ has n observations: $(x_1,x_2,...x_n)$ and the dependent variable $y$ has corresponding observations: $(y_1, y_2,...,y_n)$. If the correlation between these two sequences $corr(x,y)=0.01$, which of the following statements are true? Please select all the right answers.\n",
    "\n",
    "(a) There should be no strong relation between $x$ and $y$.\n",
    "\n",
    "(b) There could be some strong linear relationship between $x$ and $y$.\n",
    "\n",
    "(c) If we build a linear regression between $y$ and $x$ as $y=wx$, we could conclude that the OLS estimation for $w$ should be around 0.01.\n",
    "\n",
    "(d) Certain relation between $x$ and $y$ could still exist, but it should be non-linear."
   ]
  },
  {
   "cell_type": "markdown",
   "metadata": {},
   "source": [
    "######Question 1 Correct Responses are choices C and D\n"
   ]
  },
  {
   "cell_type": "markdown",
   "metadata": {},
   "source": [
    "### Question (2): (10pt)\n",
    "\n"
   ]
  },
  {
   "cell_type": "markdown",
   "metadata": {},
   "source": [
    "Consider a model\n",
    "\n",
    "$y=x^{b}$ where $b>0$. \n",
    "\n",
    "Now, suppose x doubles (originally $x>0$). How would y change with respect to this change of x? Let us denote new $y$ as $y'$. Please select all the right answers from below. \n",
    "\n",
    "(a) $y'>2y$ if b is bigger than one.\n",
    "\n",
    "(b) $y'<2y$ if b is less than one.\n",
    "\n",
    "(c) $y'=2y$ in any case.\n",
    "\n",
    "(d) $y'$ increases by $(2^b-1)*100\\%$."
   ]
  },
  {
   "cell_type": "markdown",
   "metadata": {
    "collapsed": true
   },
   "source": [
    "######Question 2 Correct Responses are choices A, B and D\n",
    "\n"
   ]
  },
  {
   "cell_type": "code",
   "execution_count": 2,
   "metadata": {
    "collapsed": true
   },
   "outputs": [],
   "source": [
    "import pandas as pd\n",
    "import numpy as np\n",
    "import statsmodels.formula.api as smf\n",
    "import matplotlib.pylab as plt\n",
    "%matplotlib inline"
   ]
  },
  {
   "cell_type": "markdown",
   "metadata": {},
   "source": [
    "### Question (3): (30 pt)\n"
   ]
  },
  {
   "cell_type": "code",
   "execution_count": 3,
   "metadata": {
    "collapsed": true
   },
   "outputs": [],
   "source": [
    "x=[0, 1, 2, 3, 4, 5, 6, 7, 8, 9, 10, 11, 12, 13, 14, 15, 16, 17, 18, 19]"
   ]
  },
  {
   "cell_type": "code",
   "execution_count": 4,
   "metadata": {
    "collapsed": true
   },
   "outputs": [],
   "source": [
    "y=[28.0, 24.0, 37.0, -7.0, 28.0, 71.0, 89.0, 60.0, 100.0, 108.0, 116.0, \n",
    "   110.0, 114.0, 123.0, 124.0, 165.0, 169.0, 211.0, 211.0, 208.0]"
   ]
  },
  {
   "cell_type": "markdown",
   "metadata": {},
   "source": [
    "#### (a) Calculate corr(x,y) without using a build-in function for the correlation coefficient."
   ]
  },
  {
   "cell_type": "code",
   "execution_count": 16,
   "metadata": {
    "collapsed": false
   },
   "outputs": [
    {
     "data": {
      "text/html": [
       "<div>\n",
       "<table border=\"1\" class=\"dataframe\">\n",
       "  <thead>\n",
       "    <tr style=\"text-align: right;\">\n",
       "      <th></th>\n",
       "      <th>x</th>\n",
       "      <th>y</th>\n",
       "      <th>x2</th>\n",
       "      <th>y2</th>\n",
       "      <th>xy</th>\n",
       "    </tr>\n",
       "  </thead>\n",
       "  <tbody>\n",
       "    <tr>\n",
       "      <th>0</th>\n",
       "      <td>0</td>\n",
       "      <td>28</td>\n",
       "      <td>0</td>\n",
       "      <td>784</td>\n",
       "      <td>0</td>\n",
       "    </tr>\n",
       "    <tr>\n",
       "      <th>1</th>\n",
       "      <td>1</td>\n",
       "      <td>24</td>\n",
       "      <td>1</td>\n",
       "      <td>576</td>\n",
       "      <td>24</td>\n",
       "    </tr>\n",
       "    <tr>\n",
       "      <th>2</th>\n",
       "      <td>2</td>\n",
       "      <td>37</td>\n",
       "      <td>4</td>\n",
       "      <td>1369</td>\n",
       "      <td>74</td>\n",
       "    </tr>\n",
       "    <tr>\n",
       "      <th>3</th>\n",
       "      <td>3</td>\n",
       "      <td>-7</td>\n",
       "      <td>9</td>\n",
       "      <td>49</td>\n",
       "      <td>-21</td>\n",
       "    </tr>\n",
       "    <tr>\n",
       "      <th>4</th>\n",
       "      <td>4</td>\n",
       "      <td>28</td>\n",
       "      <td>16</td>\n",
       "      <td>784</td>\n",
       "      <td>112</td>\n",
       "    </tr>\n",
       "  </tbody>\n",
       "</table>\n",
       "</div>"
      ],
      "text/plain": [
       "   x   y  x2    y2   xy\n",
       "0  0  28   0   784    0\n",
       "1  1  24   1   576   24\n",
       "2  2  37   4  1369   74\n",
       "3  3  -7   9    49  -21\n",
       "4  4  28  16   784  112"
      ]
     },
     "execution_count": 16,
     "metadata": {},
     "output_type": "execute_result"
    }
   ],
   "source": [
    "#create a dataframe of x, y and then add in x^2, y^2 and x*y\n",
    "\n",
    "df=pd.DataFrame([x,y]).T\n",
    "df.columns=[\"x\",\"y\"]\n",
    "df.loc[:, \"x2\"] = df.x**2\n",
    "df.loc[:, \"y2\"] = df.y**2\n",
    "df.loc[:, \"xy\"] = df.x*df.y\n",
    "df.head()"
   ]
  },
  {
   "cell_type": "code",
   "execution_count": 17,
   "metadata": {
    "collapsed": false
   },
   "outputs": [],
   "source": [
    "#Find the length of x (or y) to get n\n",
    "n = len(x)"
   ]
  },
  {
   "cell_type": "code",
   "execution_count": 21,
   "metadata": {
    "collapsed": true
   },
   "outputs": [],
   "source": [
    "SumX = sum(x) \n",
    "SumY = sum(y)\n",
    "sumX2 = sum(df.x2)\n",
    "sumY2 = sum(df.y2)\n",
    "sumXY = sum(df.xy)"
   ]
  },
  {
   "cell_type": "code",
   "execution_count": 23,
   "metadata": {
    "collapsed": false
   },
   "outputs": [],
   "source": [
    "Sxx = sumX2 - (SumX**2/n)\n",
    "Syy = sumY2 - (SumY**2/n)\n",
    "Sxy = sumXY - (SumX*SumY/n)"
   ]
  },
  {
   "cell_type": "code",
   "execution_count": 25,
   "metadata": {
    "collapsed": false
   },
   "outputs": [
    {
     "name": "stdout",
     "output_type": "stream",
     "text": [
      "0.957143492915\n"
     ]
    }
   ],
   "source": [
    "corrxy = Sxy/((Sxx*Syy)**.5)\n",
    "print corrxy"
   ]
  },
  {
   "cell_type": "markdown",
   "metadata": {},
   "source": [
    "#### (b) Estimate linear model $y=w_1*x+w_0$ using OLS formulas and without using build-in functions for the linear regression. What is  $w_1$ and $w_0$? What is $R^2$?"
   ]
  },
  {
   "cell_type": "code",
   "execution_count": 28,
   "metadata": {
    "collapsed": false
   },
   "outputs": [
    {
     "name": "stdout",
     "output_type": "stream",
     "text": [
      "w1 is : 10.5466165414\n"
     ]
    }
   ],
   "source": [
    "w1=(sumXY-SumY*SumX/n)/(sumX2-SumX*SumX/n)\n",
    "print(\"w1 is : {}\".format(w1))"
   ]
  },
  {
   "cell_type": "code",
   "execution_count": 29,
   "metadata": {
    "collapsed": false
   },
   "outputs": [
    {
     "name": "stdout",
     "output_type": "stream",
     "text": [
      "w0 is : 4.25714285714\n"
     ]
    }
   ],
   "source": [
    "w0=(df.y-df.x*w1).mean()\n",
    "print(\"w0 is : {}\".format(w0))"
   ]
  },
  {
   "cell_type": "markdown",
   "metadata": {},
   "source": [
    "#### (c) Use regression function to double check your answer making sure that your calculation is correct. "
   ]
  },
  {
   "cell_type": "code",
   "execution_count": 35,
   "metadata": {
    "collapsed": false
   },
   "outputs": [],
   "source": [
    "lm = smf.ols(formula='y ~ x', data = df).fit()"
   ]
  },
  {
   "cell_type": "code",
   "execution_count": 36,
   "metadata": {
    "collapsed": false
   },
   "outputs": [
    {
     "name": "stdout",
     "output_type": "stream",
     "text": [
      "Intercept     4.257143\n",
      "x            10.546617\n",
      "dtype: float64\n"
     ]
    }
   ],
   "source": [
    "print lm.params"
   ]
  },
  {
   "cell_type": "code",
   "execution_count": 123,
   "metadata": {
    "collapsed": false
   },
   "outputs": [
    {
     "data": {
      "text/html": [
       "<div>\n",
       "<table border=\"1\" class=\"dataframe\">\n",
       "  <thead>\n",
       "    <tr style=\"text-align: right;\">\n",
       "      <th></th>\n",
       "      <th>x</th>\n",
       "      <th>y</th>\n",
       "    </tr>\n",
       "  </thead>\n",
       "  <tbody>\n",
       "    <tr>\n",
       "      <th>x</th>\n",
       "      <td>1.000000</td>\n",
       "      <td>0.957143</td>\n",
       "    </tr>\n",
       "    <tr>\n",
       "      <th>y</th>\n",
       "      <td>0.957143</td>\n",
       "      <td>1.000000</td>\n",
       "    </tr>\n",
       "  </tbody>\n",
       "</table>\n",
       "</div>"
      ],
      "text/plain": [
       "          x         y\n",
       "x  1.000000  0.957143\n",
       "y  0.957143  1.000000"
      ]
     },
     "execution_count": 123,
     "metadata": {},
     "output_type": "execute_result"
    }
   ],
   "source": [
    "df[['x', 'y']].corr()"
   ]
  },
  {
   "cell_type": "code",
   "execution_count": 37,
   "metadata": {
    "collapsed": true
   },
   "outputs": [],
   "source": [
    "#These match our derived parameters."
   ]
  },
  {
   "cell_type": "markdown",
   "metadata": {},
   "source": [
    "### Question (4): (30pt) "
   ]
  },
  {
   "cell_type": "markdown",
   "metadata": {},
   "source": [
    "For the data below estimate a model: AssessTot = w* LotArea (with and without intercept)\n",
    "\n",
    "LotArea: Total area of the tax lot\n",
    "\n",
    "AssessTot: The actual assessed total value of Final Year 2015"
   ]
  },
  {
   "cell_type": "code",
   "execution_count": 78,
   "metadata": {
    "collapsed": true
   },
   "outputs": [],
   "source": [
    "data_4=pd.read_csv(\"https://serv.cusp.nyu.edu/~lw1474/ADS_Data/Session02/Housing_Pluto_Session2.csv\")"
   ]
  },
  {
   "cell_type": "code",
   "execution_count": 79,
   "metadata": {
    "collapsed": false
   },
   "outputs": [
    {
     "data": {
      "text/html": [
       "<div>\n",
       "<table border=\"1\" class=\"dataframe\">\n",
       "  <thead>\n",
       "    <tr style=\"text-align: right;\">\n",
       "      <th></th>\n",
       "      <th>ZipCode</th>\n",
       "      <th>LotArea</th>\n",
       "      <th>AssessTot</th>\n",
       "    </tr>\n",
       "  </thead>\n",
       "  <tbody>\n",
       "    <tr>\n",
       "      <th>0</th>\n",
       "      <td>11201</td>\n",
       "      <td>151930</td>\n",
       "      <td>1164645</td>\n",
       "    </tr>\n",
       "    <tr>\n",
       "      <th>1</th>\n",
       "      <td>11201</td>\n",
       "      <td>9620</td>\n",
       "      <td>5864850</td>\n",
       "    </tr>\n",
       "    <tr>\n",
       "      <th>2</th>\n",
       "      <td>11201</td>\n",
       "      <td>19682</td>\n",
       "      <td>12019950</td>\n",
       "    </tr>\n",
       "    <tr>\n",
       "      <th>3</th>\n",
       "      <td>NaN</td>\n",
       "      <td>0</td>\n",
       "      <td>0</td>\n",
       "    </tr>\n",
       "    <tr>\n",
       "      <th>4</th>\n",
       "      <td>11201</td>\n",
       "      <td>387060</td>\n",
       "      <td>0</td>\n",
       "    </tr>\n",
       "  </tbody>\n",
       "</table>\n",
       "</div>"
      ],
      "text/plain": [
       "   ZipCode  LotArea  AssessTot\n",
       "0    11201   151930    1164645\n",
       "1    11201     9620    5864850\n",
       "2    11201    19682   12019950\n",
       "3      NaN        0          0\n",
       "4    11201   387060          0"
      ]
     },
     "execution_count": 79,
     "metadata": {},
     "output_type": "execute_result"
    }
   ],
   "source": [
    "data_4.head()"
   ]
  },
  {
   "cell_type": "markdown",
   "metadata": {},
   "source": [
    "#### (a). As we see, this data set is not clean.  Drop all the rows which contain \"NaN\" and 0 terms."
   ]
  },
  {
   "cell_type": "code",
   "execution_count": 80,
   "metadata": {
    "collapsed": false
   },
   "outputs": [
    {
     "data": {
      "text/html": [
       "<div>\n",
       "<table border=\"1\" class=\"dataframe\">\n",
       "  <thead>\n",
       "    <tr style=\"text-align: right;\">\n",
       "      <th></th>\n",
       "      <th>ZipCode</th>\n",
       "      <th>LotArea</th>\n",
       "      <th>AssessTot</th>\n",
       "    </tr>\n",
       "  </thead>\n",
       "  <tbody>\n",
       "    <tr>\n",
       "      <th>0</th>\n",
       "      <td>11201</td>\n",
       "      <td>151930</td>\n",
       "      <td>1164645</td>\n",
       "    </tr>\n",
       "    <tr>\n",
       "      <th>1</th>\n",
       "      <td>11201</td>\n",
       "      <td>9620</td>\n",
       "      <td>5864850</td>\n",
       "    </tr>\n",
       "    <tr>\n",
       "      <th>2</th>\n",
       "      <td>11201</td>\n",
       "      <td>19682</td>\n",
       "      <td>12019950</td>\n",
       "    </tr>\n",
       "    <tr>\n",
       "      <th>4</th>\n",
       "      <td>11201</td>\n",
       "      <td>387060</td>\n",
       "      <td>0</td>\n",
       "    </tr>\n",
       "    <tr>\n",
       "      <th>5</th>\n",
       "      <td>11201</td>\n",
       "      <td>6384</td>\n",
       "      <td>21150</td>\n",
       "    </tr>\n",
       "  </tbody>\n",
       "</table>\n",
       "</div>"
      ],
      "text/plain": [
       "   ZipCode  LotArea  AssessTot\n",
       "0    11201   151930    1164645\n",
       "1    11201     9620    5864850\n",
       "2    11201    19682   12019950\n",
       "4    11201   387060          0\n",
       "5    11201     6384      21150"
      ]
     },
     "execution_count": 80,
     "metadata": {},
     "output_type": "execute_result"
    }
   ],
   "source": [
    "#Drop NaN\n",
    "data_4.dropna(inplace = True)\n",
    "data_4.head()"
   ]
  },
  {
   "cell_type": "code",
   "execution_count": 84,
   "metadata": {
    "collapsed": false
   },
   "outputs": [
    {
     "data": {
      "text/html": [
       "<div>\n",
       "<table border=\"1\" class=\"dataframe\">\n",
       "  <thead>\n",
       "    <tr style=\"text-align: right;\">\n",
       "      <th></th>\n",
       "      <th>ZipCode</th>\n",
       "      <th>LotArea</th>\n",
       "      <th>AssessTot</th>\n",
       "    </tr>\n",
       "  </thead>\n",
       "  <tbody>\n",
       "    <tr>\n",
       "      <th>0</th>\n",
       "      <td>11201</td>\n",
       "      <td>151930</td>\n",
       "      <td>1164645</td>\n",
       "    </tr>\n",
       "    <tr>\n",
       "      <th>1</th>\n",
       "      <td>11201</td>\n",
       "      <td>9620</td>\n",
       "      <td>5864850</td>\n",
       "    </tr>\n",
       "    <tr>\n",
       "      <th>2</th>\n",
       "      <td>11201</td>\n",
       "      <td>19682</td>\n",
       "      <td>12019950</td>\n",
       "    </tr>\n",
       "    <tr>\n",
       "      <th>5</th>\n",
       "      <td>11201</td>\n",
       "      <td>6384</td>\n",
       "      <td>21150</td>\n",
       "    </tr>\n",
       "    <tr>\n",
       "      <th>10</th>\n",
       "      <td>11201</td>\n",
       "      <td>66889</td>\n",
       "      <td>11700</td>\n",
       "    </tr>\n",
       "  </tbody>\n",
       "</table>\n",
       "</div>"
      ],
      "text/plain": [
       "    ZipCode  LotArea  AssessTot\n",
       "0     11201   151930    1164645\n",
       "1     11201     9620    5864850\n",
       "2     11201    19682   12019950\n",
       "5     11201     6384      21150\n",
       "10    11201    66889      11700"
      ]
     },
     "execution_count": 84,
     "metadata": {},
     "output_type": "execute_result"
    }
   ],
   "source": [
    "data_4 = data_4[(data_4 != 0).all(1)]\n",
    "data_4.head()"
   ]
  },
  {
   "cell_type": "code",
   "execution_count": 125,
   "metadata": {
    "collapsed": false
   },
   "outputs": [
    {
     "data": {
      "text/plain": [
       "(275982, 5)"
      ]
     },
     "execution_count": 125,
     "metadata": {},
     "output_type": "execute_result"
    }
   ],
   "source": [
    "data_4.shape"
   ]
  },
  {
   "cell_type": "markdown",
   "metadata": {},
   "source": [
    "#### (b). Visualize the data set."
   ]
  },
  {
   "cell_type": "code",
   "execution_count": 85,
   "metadata": {
    "collapsed": false
   },
   "outputs": [
    {
     "data": {
      "image/png": "[encoded data removed]",
      "text/plain": [
       "<matplotlib.figure.Figure at 0x1142acf10>"
      ]
     },
     "metadata": {},
     "output_type": "display_data"
    }
   ],
   "source": [
    "plt.scatter(data_4.LotArea,data_4.AssessTot)\n",
    "plt.xlabel('LotArea')\n",
    "plt.ylabel('AssessTot')\n",
    "plt.show()"
   ]
  },
  {
   "cell_type": "markdown",
   "metadata": {},
   "source": [
    "#### (c).  Build a model : AssessTot=$w_1$*LotArea + $w_2$. Get $w_1$, $w_2$ and $R^2$.  Plot your results together with observations. "
   ]
  },
  {
   "cell_type": "code",
   "execution_count": 127,
   "metadata": {
    "collapsed": false
   },
   "outputs": [
    {
     "name": "stdout",
     "output_type": "stream",
     "text": [
      "                            OLS Regression Results                            \n",
      "==============================================================================\n",
      "Dep. Variable:              AssessTot   R-squared:                       0.384\n",
      "Model:                            OLS   Adj. R-squared:                  0.384\n",
      "Method:                 Least Squares   F-statistic:                 1.724e+05\n",
      "Date:                Sun, 25 Sep 2016   Prob (F-statistic):               0.00\n",
      "Time:                        10:14:31   Log-Likelihood:            -4.6221e+06\n",
      "No. Observations:              275982   AIC:                         9.244e+06\n",
      "Df Residuals:                  275980   BIC:                         9.244e+06\n",
      "Df Model:                           1                                         \n",
      "Covariance Type:            nonrobust                                         \n",
      "==============================================================================\n",
      "                 coef    std err          t      P>|t|      [95.0% Conf. Int.]\n",
      "------------------------------------------------------------------------------\n",
      "Intercept   7.694e+04   8648.667      8.897      0.000         6e+04  9.39e+04\n",
      "LotArea       21.1604      0.051    415.180      0.000        21.060    21.260\n",
      "==============================================================================\n",
      "Omnibus:                  1261967.961   Durbin-Watson:                   2.280\n",
      "Prob(Omnibus):                  0.000   Jarque-Bera (JB):   60355909936225.297\n",
      "Skew:                         157.430   Prob(JB):                         0.00\n",
      "Kurtosis:                   72450.106   Cond. No.                     1.70e+05\n",
      "==============================================================================\n",
      "\n",
      "Warnings:\n",
      "[1] Standard Errors assume that the covariance matrix of the errors is correctly specified.\n",
      "[2] The condition number is large, 1.7e+05. This might indicate that there are\n",
      "strong multicollinearity or other numerical problems.\n"
     ]
    }
   ],
   "source": [
    "lm = smf.ols(formula='AssessTot ~ LotArea', data = data_4).fit()\n",
    "print(lm.summary())"
   ]
  },
  {
   "cell_type": "code",
   "execution_count": 128,
   "metadata": {
    "collapsed": false
   },
   "outputs": [
    {
     "name": "stdout",
     "output_type": "stream",
     "text": [
      "W1 =  21.160373533\n",
      "W2 =  76944.2978378\n",
      "R^2 = 0.384460103284\n"
     ]
    }
   ],
   "source": [
    "#print parameters w1, w2 and rsquared\n",
    "print \"W1 = \", lm.params[1]\n",
    "print \"W2 = \", lm.params[0]\n",
    "print \"R^2 =\", lm.rsquared"
   ]
  },
  {
   "cell_type": "code",
   "execution_count": 88,
   "metadata": {
    "collapsed": false
   },
   "outputs": [
    {
     "data": {
      "image/png": "[encoded data removed]",
      "text/plain": [
       "<matplotlib.figure.Figure at 0x10a413210>"
      ]
     },
     "metadata": {},
     "output_type": "display_data"
    }
   ],
   "source": [
    "#plot\n",
    "data_4.plot(kind='scatter',x='LotArea',y='AssessTot')\n",
    "plt.plot(data_4.LotArea, lm.predict(),'r-')\n",
    "plt.show()"
   ]
  },
  {
   "cell_type": "code",
   "execution_count": null,
   "metadata": {
    "collapsed": true
   },
   "outputs": [],
   "source": []
  },
  {
   "cell_type": "markdown",
   "metadata": {},
   "source": [
    "#### (d) Repeat (c) without intercept, i.e. with $w_2=0$."
   ]
  },
  {
   "cell_type": "code",
   "execution_count": 89,
   "metadata": {
    "collapsed": false
   },
   "outputs": [
    {
     "name": "stdout",
     "output_type": "stream",
     "text": [
      "                            OLS Regression Results                            \n",
      "==============================================================================\n",
      "Dep. Variable:              AssessTot   R-squared:                       0.385\n",
      "Model:                            OLS   Adj. R-squared:                  0.385\n",
      "Method:                 Least Squares   F-statistic:                 1.727e+05\n",
      "Date:                Sat, 24 Sep 2016   Prob (F-statistic):               0.00\n",
      "Time:                        11:08:16   Log-Likelihood:            -4.6221e+06\n",
      "No. Observations:              275982   AIC:                         9.244e+06\n",
      "Df Residuals:                  275981   BIC:                         9.244e+06\n",
      "Df Model:                           1                                         \n",
      "Covariance Type:            nonrobust                                         \n",
      "==============================================================================\n",
      "                 coef    std err          t      P>|t|      [95.0% Conf. Int.]\n",
      "------------------------------------------------------------------------------\n",
      "LotArea       21.1741      0.051    415.580      0.000        21.074    21.274\n",
      "==============================================================================\n",
      "Omnibus:                  1261251.320   Durbin-Watson:                   2.280\n",
      "Prob(Omnibus):                  0.000   Jarque-Bera (JB):   60238667709725.539\n",
      "Skew:                         157.123   Prob(JB):                         0.00\n",
      "Kurtosis:                   72379.708   Cond. No.                         1.00\n",
      "==============================================================================\n",
      "\n",
      "Warnings:\n",
      "[1] Standard Errors assume that the covariance matrix of the errors is correctly specified.\n"
     ]
    }
   ],
   "source": [
    "#adjust the formula in OLS to include a -1 to remove the intercept\n",
    "lm2 = smf.ols(formula='AssessTot ~ LotArea - 1', data = data_4).fit()\n",
    "print(lm2.summary())"
   ]
  },
  {
   "cell_type": "code",
   "execution_count": 130,
   "metadata": {
    "collapsed": false
   },
   "outputs": [
    {
     "name": "stdout",
     "output_type": "stream",
     "text": [
      "W1 =  21.1740787884\n",
      "R^2 = 0.38491509123\n"
     ]
    }
   ],
   "source": [
    "#print parameters w1, w2 and rsquared\n",
    "print \"W1 = \", lm2.params[0]\n",
    "print \"R^2 =\", lm2.rsquared"
   ]
  },
  {
   "cell_type": "code",
   "execution_count": 91,
   "metadata": {
    "collapsed": false
   },
   "outputs": [
    {
     "data": {
      "image/png": "[encoded data removed]",
      "text/plain": [
       "<matplotlib.figure.Figure at 0x10dba0510>"
      ]
     },
     "metadata": {},
     "output_type": "display_data"
    }
   ],
   "source": [
    "data_4.plot(kind='scatter',x='LotArea',y='AssessTot')\n",
    "plt.plot(data_4.LotArea, lm2.predict(),'r-')\n",
    "plt.show()"
   ]
  },
  {
   "cell_type": "code",
   "execution_count": null,
   "metadata": {
    "collapsed": true
   },
   "outputs": [],
   "source": []
  },
  {
   "cell_type": "markdown",
   "metadata": {
    "collapsed": true
   },
   "source": [
    "### Question (5): (20pt)\n",
    "\n",
    "For the same data as above try the model: log_AssessTot=$w_1$*log_LotArea + $w_2$. Get $w_1$, $w_2$ and $R^2$.  And plot your results together with observations. Explain the result - what does the estimated \"$w_1$\" means to you?"
   ]
  },
  {
   "cell_type": "code",
   "execution_count": 93,
   "metadata": {
    "collapsed": false
   },
   "outputs": [
    {
     "data": {
      "text/html": [
       "<div>\n",
       "<table border=\"1\" class=\"dataframe\">\n",
       "  <thead>\n",
       "    <tr style=\"text-align: right;\">\n",
       "      <th></th>\n",
       "      <th>ZipCode</th>\n",
       "      <th>LotArea</th>\n",
       "      <th>AssessTot</th>\n",
       "      <th>log_AssessTot</th>\n",
       "      <th>log_LotArea</th>\n",
       "    </tr>\n",
       "  </thead>\n",
       "  <tbody>\n",
       "    <tr>\n",
       "      <th>0</th>\n",
       "      <td>11201</td>\n",
       "      <td>151930</td>\n",
       "      <td>1164645</td>\n",
       "      <td>13.967927</td>\n",
       "      <td>11.931175</td>\n",
       "    </tr>\n",
       "    <tr>\n",
       "      <th>1</th>\n",
       "      <td>11201</td>\n",
       "      <td>9620</td>\n",
       "      <td>5864850</td>\n",
       "      <td>15.584487</td>\n",
       "      <td>9.171600</td>\n",
       "    </tr>\n",
       "    <tr>\n",
       "      <th>2</th>\n",
       "      <td>11201</td>\n",
       "      <td>19682</td>\n",
       "      <td>12019950</td>\n",
       "      <td>16.302078</td>\n",
       "      <td>9.887460</td>\n",
       "    </tr>\n",
       "    <tr>\n",
       "      <th>5</th>\n",
       "      <td>11201</td>\n",
       "      <td>6384</td>\n",
       "      <td>21150</td>\n",
       "      <td>9.959395</td>\n",
       "      <td>8.761550</td>\n",
       "    </tr>\n",
       "    <tr>\n",
       "      <th>10</th>\n",
       "      <td>11201</td>\n",
       "      <td>66889</td>\n",
       "      <td>11700</td>\n",
       "      <td>9.367344</td>\n",
       "      <td>11.110790</td>\n",
       "    </tr>\n",
       "  </tbody>\n",
       "</table>\n",
       "</div>"
      ],
      "text/plain": [
       "    ZipCode  LotArea  AssessTot  log_AssessTot  log_LotArea\n",
       "0     11201   151930    1164645      13.967927    11.931175\n",
       "1     11201     9620    5864850      15.584487     9.171600\n",
       "2     11201    19682   12019950      16.302078     9.887460\n",
       "5     11201     6384      21150       9.959395     8.761550\n",
       "10    11201    66889      11700       9.367344    11.110790"
      ]
     },
     "execution_count": 93,
     "metadata": {},
     "output_type": "execute_result"
    }
   ],
   "source": [
    "data_4.loc[:,\"log_AssessTot\"]=np.log(data_4.AssessTot)\n",
    "data_4.loc[:,\"log_LotArea\"]=np.log(data_4.LotArea)\n",
    "data_4.head()"
   ]
  },
  {
   "cell_type": "code",
   "execution_count": 95,
   "metadata": {
    "collapsed": false
   },
   "outputs": [
    {
     "name": "stdout",
     "output_type": "stream",
     "text": [
      "                            OLS Regression Results                            \n",
      "==============================================================================\n",
      "Dep. Variable:          log_AssessTot   R-squared:                       0.491\n",
      "Model:                            OLS   Adj. R-squared:                  0.491\n",
      "Method:                 Least Squares   F-statistic:                 2.659e+05\n",
      "Date:                Sat, 24 Sep 2016   Prob (F-statistic):               0.00\n",
      "Time:                        11:12:46   Log-Likelihood:            -3.4460e+05\n",
      "No. Observations:              275982   AIC:                         6.892e+05\n",
      "Df Residuals:                  275980   BIC:                         6.892e+05\n",
      "Df Model:                           1                                         \n",
      "Covariance Type:            nonrobust                                         \n",
      "===============================================================================\n",
      "                  coef    std err          t      P>|t|      [95.0% Conf. Int.]\n",
      "-------------------------------------------------------------------------------\n",
      "Intercept       0.2074      0.020     10.275      0.000         0.168     0.247\n",
      "log_LotArea     1.3251      0.003    515.701      0.000         1.320     1.330\n",
      "==============================================================================\n",
      "Omnibus:                    29135.635   Durbin-Watson:                   0.917\n",
      "Prob(Omnibus):                  0.000   Jarque-Bera (JB):           197344.029\n",
      "Skew:                           0.276   Prob(JB):                         0.00\n",
      "Kurtosis:                       7.106   Cond. No.                         100.\n",
      "==============================================================================\n",
      "\n",
      "Warnings:\n",
      "[1] Standard Errors assume that the covariance matrix of the errors is correctly specified.\n"
     ]
    }
   ],
   "source": [
    "lm3 = smf.ols(formula='log_AssessTot ~ log_LotArea', data = data_4).fit()\n",
    "print(lm3.summary())"
   ]
  },
  {
   "cell_type": "code",
   "execution_count": 131,
   "metadata": {
    "collapsed": false
   },
   "outputs": [
    {
     "name": "stdout",
     "output_type": "stream",
     "text": [
      "W1 =  1.32514911392\n",
      "W2 =  0.207381598948\n",
      "R^2 = 0.490743686492\n"
     ]
    }
   ],
   "source": [
    "print \"W1 = \", lm3.params[1]\n",
    "print \"W2 = \", lm3.params[0]\n",
    "print \"R^2 =\", lm3.rsquared"
   ]
  },
  {
   "cell_type": "code",
   "execution_count": 132,
   "metadata": {
    "collapsed": false
   },
   "outputs": [
    {
     "data": {
      "image/png": "[encoded data removed]",
      "text/plain": [
       "<matplotlib.figure.Figure at 0x10ebd2710>"
      ]
     },
     "metadata": {},
     "output_type": "display_data"
    }
   ],
   "source": [
    "#Plot\n",
    "data_4.plot(kind='scatter',x='log_LotArea',y='log_AssessTot')\n",
    "plt.plot(data_4.log_LotArea,lm3.predict(),'r-')\n",
    "plt.show()"
   ]
  },
  {
   "cell_type": "markdown",
   "metadata": {},
   "source": [
    "W1 is the degree of the best fitting polynomial for the equation AssessTot = LotArea^w1.  Because the value of w1 does not equal 1, this is not a linear relation.  Because it is close to 1 in value, we can safely use the linear regression as a baseline prediction. "
   ]
  },
  {
   "cell_type": "markdown",
   "metadata": {},
   "source": [
    "### *Additional extra-credit question (Using the housing price data set from question (4)) (40 pt to be added to the cumulative homework score up to the maximum of 100%(for whole semester))"
   ]
  },
  {
   "cell_type": "markdown",
   "metadata": {},
   "source": [
    "#### (a) How many different zip codes are in the data? report the number of observations for each zipcode.\n",
    "\n",
    "#### (b) For each zip code having over 1000 observations, report the average assessed total value of houses.\n",
    "\n",
    "#### (c) For each zip code estimate the log scale model 'log_AssessTot ~ log_LotArea' and report the slope coefficient (scaling exponent).\n",
    "\n",
    "#### (d) Visualize the spatial distribution of the values from (b) and (c). Report the top 5 zip code with highest scaling exponents."
   ]
  },
  {
   "cell_type": "code",
   "execution_count": 76,
   "metadata": {
    "collapsed": false
   },
   "outputs": [
    {
     "name": "stdout",
     "output_type": "stream",
     "text": [
      "(41,)\n"
     ]
    }
   ],
   "source": [
    "#A - Unique ZipCodes (using cleaned data - there may be more but they have been eliminated during cleaning)\n",
    "UniqueZips = data_4.ZipCode.unique()\n",
    "print UniqueZips.shape\n",
    "#There are 41 unique zipcodes"
   ]
  },
  {
   "cell_type": "code",
   "execution_count": 135,
   "metadata": {
    "collapsed": false
   },
   "outputs": [
    {
     "data": {
      "text/html": [
       "<div>\n",
       "<table border=\"1\" class=\"dataframe\">\n",
       "  <thead>\n",
       "    <tr style=\"text-align: right;\">\n",
       "      <th></th>\n",
       "      <th>ZipCode</th>\n",
       "      <th>Count</th>\n",
       "    </tr>\n",
       "  </thead>\n",
       "  <tbody>\n",
       "    <tr>\n",
       "      <th>0</th>\n",
       "      <td>11201</td>\n",
       "      <td>3361</td>\n",
       "    </tr>\n",
       "    <tr>\n",
       "      <th>1</th>\n",
       "      <td>11203</td>\n",
       "      <td>11011</td>\n",
       "    </tr>\n",
       "    <tr>\n",
       "      <th>2</th>\n",
       "      <td>11204</td>\n",
       "      <td>9946</td>\n",
       "    </tr>\n",
       "    <tr>\n",
       "      <th>3</th>\n",
       "      <td>11205</td>\n",
       "      <td>3196</td>\n",
       "    </tr>\n",
       "    <tr>\n",
       "      <th>4</th>\n",
       "      <td>11206</td>\n",
       "      <td>4665</td>\n",
       "    </tr>\n",
       "    <tr>\n",
       "      <th>5</th>\n",
       "      <td>11207</td>\n",
       "      <td>11413</td>\n",
       "    </tr>\n",
       "    <tr>\n",
       "      <th>6</th>\n",
       "      <td>11208</td>\n",
       "      <td>11284</td>\n",
       "    </tr>\n",
       "    <tr>\n",
       "      <th>7</th>\n",
       "      <td>11209</td>\n",
       "      <td>8451</td>\n",
       "    </tr>\n",
       "    <tr>\n",
       "      <th>8</th>\n",
       "      <td>11210</td>\n",
       "      <td>8540</td>\n",
       "    </tr>\n",
       "    <tr>\n",
       "      <th>9</th>\n",
       "      <td>11211</td>\n",
       "      <td>5462</td>\n",
       "    </tr>\n",
       "    <tr>\n",
       "      <th>10</th>\n",
       "      <td>11212</td>\n",
       "      <td>6578</td>\n",
       "    </tr>\n",
       "    <tr>\n",
       "      <th>11</th>\n",
       "      <td>11213</td>\n",
       "      <td>5076</td>\n",
       "    </tr>\n",
       "    <tr>\n",
       "      <th>12</th>\n",
       "      <td>11214</td>\n",
       "      <td>9513</td>\n",
       "    </tr>\n",
       "    <tr>\n",
       "      <th>13</th>\n",
       "      <td>11215</td>\n",
       "      <td>9056</td>\n",
       "    </tr>\n",
       "    <tr>\n",
       "      <th>14</th>\n",
       "      <td>11216</td>\n",
       "      <td>6113</td>\n",
       "    </tr>\n",
       "    <tr>\n",
       "      <th>15</th>\n",
       "      <td>11217</td>\n",
       "      <td>4035</td>\n",
       "    </tr>\n",
       "    <tr>\n",
       "      <th>16</th>\n",
       "      <td>11218</td>\n",
       "      <td>6905</td>\n",
       "    </tr>\n",
       "    <tr>\n",
       "      <th>17</th>\n",
       "      <td>11219</td>\n",
       "      <td>8656</td>\n",
       "    </tr>\n",
       "    <tr>\n",
       "      <th>18</th>\n",
       "      <td>11220</td>\n",
       "      <td>9015</td>\n",
       "    </tr>\n",
       "    <tr>\n",
       "      <th>19</th>\n",
       "      <td>11221</td>\n",
       "      <td>9186</td>\n",
       "    </tr>\n",
       "    <tr>\n",
       "      <th>20</th>\n",
       "      <td>11222</td>\n",
       "      <td>5311</td>\n",
       "    </tr>\n",
       "    <tr>\n",
       "      <th>21</th>\n",
       "      <td>11223</td>\n",
       "      <td>10322</td>\n",
       "    </tr>\n",
       "    <tr>\n",
       "      <th>22</th>\n",
       "      <td>11224</td>\n",
       "      <td>2798</td>\n",
       "    </tr>\n",
       "    <tr>\n",
       "      <th>23</th>\n",
       "      <td>11225</td>\n",
       "      <td>3920</td>\n",
       "    </tr>\n",
       "    <tr>\n",
       "      <th>24</th>\n",
       "      <td>11226</td>\n",
       "      <td>5336</td>\n",
       "    </tr>\n",
       "    <tr>\n",
       "      <th>25</th>\n",
       "      <td>11228</td>\n",
       "      <td>7857</td>\n",
       "    </tr>\n",
       "    <tr>\n",
       "      <th>26</th>\n",
       "      <td>11229</td>\n",
       "      <td>12063</td>\n",
       "    </tr>\n",
       "    <tr>\n",
       "      <th>27</th>\n",
       "      <td>11230</td>\n",
       "      <td>7987</td>\n",
       "    </tr>\n",
       "    <tr>\n",
       "      <th>28</th>\n",
       "      <td>11231</td>\n",
       "      <td>4838</td>\n",
       "    </tr>\n",
       "    <tr>\n",
       "      <th>29</th>\n",
       "      <td>11232</td>\n",
       "      <td>2946</td>\n",
       "    </tr>\n",
       "    <tr>\n",
       "      <th>30</th>\n",
       "      <td>11233</td>\n",
       "      <td>8014</td>\n",
       "    </tr>\n",
       "    <tr>\n",
       "      <th>31</th>\n",
       "      <td>11234</td>\n",
       "      <td>19318</td>\n",
       "    </tr>\n",
       "    <tr>\n",
       "      <th>32</th>\n",
       "      <td>11235</td>\n",
       "      <td>7941</td>\n",
       "    </tr>\n",
       "    <tr>\n",
       "      <th>33</th>\n",
       "      <td>11236</td>\n",
       "      <td>14612</td>\n",
       "    </tr>\n",
       "    <tr>\n",
       "      <th>34</th>\n",
       "      <td>11237</td>\n",
       "      <td>4390</td>\n",
       "    </tr>\n",
       "    <tr>\n",
       "      <th>35</th>\n",
       "      <td>11238</td>\n",
       "      <td>4876</td>\n",
       "    </tr>\n",
       "    <tr>\n",
       "      <th>36</th>\n",
       "      <td>11239</td>\n",
       "      <td>424</td>\n",
       "    </tr>\n",
       "    <tr>\n",
       "      <th>37</th>\n",
       "      <td>11241</td>\n",
       "      <td>1</td>\n",
       "    </tr>\n",
       "    <tr>\n",
       "      <th>38</th>\n",
       "      <td>11249</td>\n",
       "      <td>1561</td>\n",
       "    </tr>\n",
       "    <tr>\n",
       "      <th>39</th>\n",
       "      <td>11251</td>\n",
       "      <td>1</td>\n",
       "    </tr>\n",
       "    <tr>\n",
       "      <th>40</th>\n",
       "      <td>11416</td>\n",
       "      <td>4</td>\n",
       "    </tr>\n",
       "  </tbody>\n",
       "</table>\n",
       "</div>"
      ],
      "text/plain": [
       "    ZipCode  Count\n",
       "0     11201   3361\n",
       "1     11203  11011\n",
       "2     11204   9946\n",
       "3     11205   3196\n",
       "4     11206   4665\n",
       "5     11207  11413\n",
       "6     11208  11284\n",
       "7     11209   8451\n",
       "8     11210   8540\n",
       "9     11211   5462\n",
       "10    11212   6578\n",
       "11    11213   5076\n",
       "12    11214   9513\n",
       "13    11215   9056\n",
       "14    11216   6113\n",
       "15    11217   4035\n",
       "16    11218   6905\n",
       "17    11219   8656\n",
       "18    11220   9015\n",
       "19    11221   9186\n",
       "20    11222   5311\n",
       "21    11223  10322\n",
       "22    11224   2798\n",
       "23    11225   3920\n",
       "24    11226   5336\n",
       "25    11228   7857\n",
       "26    11229  12063\n",
       "27    11230   7987\n",
       "28    11231   4838\n",
       "29    11232   2946\n",
       "30    11233   8014\n",
       "31    11234  19318\n",
       "32    11235   7941\n",
       "33    11236  14612\n",
       "34    11237   4390\n",
       "35    11238   4876\n",
       "36    11239    424\n",
       "37    11241      1\n",
       "38    11249   1561\n",
       "39    11251      1\n",
       "40    11416      4"
      ]
     },
     "execution_count": 135,
     "metadata": {},
     "output_type": "execute_result"
    }
   ],
   "source": [
    "#A - Number of Obeservations per zipcode\n",
    "ObsPerZip = data_4.groupby('ZipCode').count().reset_index()\n",
    "ObsPerZip['Count'] = ObsPerZip['LotArea']\n",
    "ObsPerZip = ObsPerZip[['ZipCode','Count']]\n",
    "ObsPerZip"
   ]
  },
  {
   "cell_type": "code",
   "execution_count": 136,
   "metadata": {
    "collapsed": false
   },
   "outputs": [],
   "source": [
    "#B If the number of observations per zipcode is greater than 1000, then compute the mean assessed value\n",
    "ObsPerZip2 = ObsPerZip[ObsPerZip.Count>1000]"
   ]
  },
  {
   "cell_type": "code",
   "execution_count": 139,
   "metadata": {
    "collapsed": false
   },
   "outputs": [],
   "source": [
    "MeanAssessbyZip = data_4.groupby('ZipCode').mean().reset_index()"
   ]
  },
  {
   "cell_type": "code",
   "execution_count": 142,
   "metadata": {
    "collapsed": false
   },
   "outputs": [],
   "source": [
    "MeanAssessbyZip = MeanAssessbyZip[['ZipCode', 'AssessTot']]\n",
    "MeanAssessbyZip = pd.merge(ObsPerZip2, MeanAssessbyZip, how = 'left', on = 'ZipCode')"
   ]
  },
  {
   "cell_type": "code",
   "execution_count": 143,
   "metadata": {
    "collapsed": false
   },
   "outputs": [
    {
     "data": {
      "text/html": [
       "<div>\n",
       "<table border=\"1\" class=\"dataframe\">\n",
       "  <thead>\n",
       "    <tr style=\"text-align: right;\">\n",
       "      <th></th>\n",
       "      <th>ZipCode</th>\n",
       "      <th>Count</th>\n",
       "      <th>AssessTot</th>\n",
       "    </tr>\n",
       "  </thead>\n",
       "  <tbody>\n",
       "    <tr>\n",
       "      <th>0</th>\n",
       "      <td>11201</td>\n",
       "      <td>3361</td>\n",
       "      <td>1672253.175543</td>\n",
       "    </tr>\n",
       "    <tr>\n",
       "      <th>1</th>\n",
       "      <td>11203</td>\n",
       "      <td>11011</td>\n",
       "      <td>121020.278994</td>\n",
       "    </tr>\n",
       "    <tr>\n",
       "      <th>2</th>\n",
       "      <td>11204</td>\n",
       "      <td>9946</td>\n",
       "      <td>104542.541323</td>\n",
       "    </tr>\n",
       "    <tr>\n",
       "      <th>3</th>\n",
       "      <td>11205</td>\n",
       "      <td>3196</td>\n",
       "      <td>350940.932728</td>\n",
       "    </tr>\n",
       "    <tr>\n",
       "      <th>4</th>\n",
       "      <td>11206</td>\n",
       "      <td>4665</td>\n",
       "      <td>311533.268167</td>\n",
       "    </tr>\n",
       "    <tr>\n",
       "      <th>5</th>\n",
       "      <td>11207</td>\n",
       "      <td>11413</td>\n",
       "      <td>100342.272934</td>\n",
       "    </tr>\n",
       "    <tr>\n",
       "      <th>6</th>\n",
       "      <td>11208</td>\n",
       "      <td>11284</td>\n",
       "      <td>86440.452056</td>\n",
       "    </tr>\n",
       "    <tr>\n",
       "      <th>7</th>\n",
       "      <td>11209</td>\n",
       "      <td>8451</td>\n",
       "      <td>173187.026742</td>\n",
       "    </tr>\n",
       "    <tr>\n",
       "      <th>8</th>\n",
       "      <td>11210</td>\n",
       "      <td>8540</td>\n",
       "      <td>119467.800585</td>\n",
       "    </tr>\n",
       "    <tr>\n",
       "      <th>9</th>\n",
       "      <td>11211</td>\n",
       "      <td>5462</td>\n",
       "      <td>249301.736726</td>\n",
       "    </tr>\n",
       "    <tr>\n",
       "      <th>10</th>\n",
       "      <td>11212</td>\n",
       "      <td>6578</td>\n",
       "      <td>166426.244147</td>\n",
       "    </tr>\n",
       "    <tr>\n",
       "      <th>11</th>\n",
       "      <td>11213</td>\n",
       "      <td>5076</td>\n",
       "      <td>169621.154846</td>\n",
       "    </tr>\n",
       "    <tr>\n",
       "      <th>12</th>\n",
       "      <td>11214</td>\n",
       "      <td>9513</td>\n",
       "      <td>127064.431515</td>\n",
       "    </tr>\n",
       "    <tr>\n",
       "      <th>13</th>\n",
       "      <td>11215</td>\n",
       "      <td>9056</td>\n",
       "      <td>169718.446996</td>\n",
       "    </tr>\n",
       "    <tr>\n",
       "      <th>14</th>\n",
       "      <td>11216</td>\n",
       "      <td>6113</td>\n",
       "      <td>125110.447571</td>\n",
       "    </tr>\n",
       "    <tr>\n",
       "      <th>15</th>\n",
       "      <td>11217</td>\n",
       "      <td>4035</td>\n",
       "      <td>483297.803470</td>\n",
       "    </tr>\n",
       "    <tr>\n",
       "      <th>16</th>\n",
       "      <td>11218</td>\n",
       "      <td>6905</td>\n",
       "      <td>130887.364084</td>\n",
       "    </tr>\n",
       "    <tr>\n",
       "      <th>17</th>\n",
       "      <td>11219</td>\n",
       "      <td>8656</td>\n",
       "      <td>140740.943392</td>\n",
       "    </tr>\n",
       "    <tr>\n",
       "      <th>18</th>\n",
       "      <td>11220</td>\n",
       "      <td>9015</td>\n",
       "      <td>134545.878092</td>\n",
       "    </tr>\n",
       "    <tr>\n",
       "      <th>19</th>\n",
       "      <td>11221</td>\n",
       "      <td>9186</td>\n",
       "      <td>90601.832571</td>\n",
       "    </tr>\n",
       "    <tr>\n",
       "      <th>20</th>\n",
       "      <td>11222</td>\n",
       "      <td>5311</td>\n",
       "      <td>203406.643758</td>\n",
       "    </tr>\n",
       "    <tr>\n",
       "      <th>21</th>\n",
       "      <td>11223</td>\n",
       "      <td>10322</td>\n",
       "      <td>103472.525092</td>\n",
       "    </tr>\n",
       "    <tr>\n",
       "      <th>22</th>\n",
       "      <td>11224</td>\n",
       "      <td>2798</td>\n",
       "      <td>309679.677984</td>\n",
       "    </tr>\n",
       "    <tr>\n",
       "      <th>23</th>\n",
       "      <td>11225</td>\n",
       "      <td>3920</td>\n",
       "      <td>219101.944898</td>\n",
       "    </tr>\n",
       "    <tr>\n",
       "      <th>24</th>\n",
       "      <td>11226</td>\n",
       "      <td>5336</td>\n",
       "      <td>259168.549288</td>\n",
       "    </tr>\n",
       "    <tr>\n",
       "      <th>25</th>\n",
       "      <td>11228</td>\n",
       "      <td>7857</td>\n",
       "      <td>67127.979381</td>\n",
       "    </tr>\n",
       "    <tr>\n",
       "      <th>26</th>\n",
       "      <td>11229</td>\n",
       "      <td>12063</td>\n",
       "      <td>308220.279035</td>\n",
       "    </tr>\n",
       "    <tr>\n",
       "      <th>27</th>\n",
       "      <td>11230</td>\n",
       "      <td>7987</td>\n",
       "      <td>148870.195317</td>\n",
       "    </tr>\n",
       "    <tr>\n",
       "      <th>28</th>\n",
       "      <td>11231</td>\n",
       "      <td>4838</td>\n",
       "      <td>187081.372881</td>\n",
       "    </tr>\n",
       "    <tr>\n",
       "      <th>29</th>\n",
       "      <td>11232</td>\n",
       "      <td>2946</td>\n",
       "      <td>386084.401222</td>\n",
       "    </tr>\n",
       "    <tr>\n",
       "      <th>30</th>\n",
       "      <td>11233</td>\n",
       "      <td>8014</td>\n",
       "      <td>83359.828800</td>\n",
       "    </tr>\n",
       "    <tr>\n",
       "      <th>31</th>\n",
       "      <td>11234</td>\n",
       "      <td>19318</td>\n",
       "      <td>154839.124599</td>\n",
       "    </tr>\n",
       "    <tr>\n",
       "      <th>32</th>\n",
       "      <td>11235</td>\n",
       "      <td>7941</td>\n",
       "      <td>216932.072661</td>\n",
       "    </tr>\n",
       "    <tr>\n",
       "      <th>33</th>\n",
       "      <td>11236</td>\n",
       "      <td>14612</td>\n",
       "      <td>77653.764919</td>\n",
       "    </tr>\n",
       "    <tr>\n",
       "      <th>34</th>\n",
       "      <td>11237</td>\n",
       "      <td>4390</td>\n",
       "      <td>152954.290205</td>\n",
       "    </tr>\n",
       "    <tr>\n",
       "      <th>35</th>\n",
       "      <td>11238</td>\n",
       "      <td>4876</td>\n",
       "      <td>265260.626743</td>\n",
       "    </tr>\n",
       "    <tr>\n",
       "      <th>36</th>\n",
       "      <td>11249</td>\n",
       "      <td>1561</td>\n",
       "      <td>714632.458040</td>\n",
       "    </tr>\n",
       "  </tbody>\n",
       "</table>\n",
       "</div>"
      ],
      "text/plain": [
       "    ZipCode  Count       AssessTot\n",
       "0     11201   3361  1672253.175543\n",
       "1     11203  11011   121020.278994\n",
       "2     11204   9946   104542.541323\n",
       "3     11205   3196   350940.932728\n",
       "4     11206   4665   311533.268167\n",
       "5     11207  11413   100342.272934\n",
       "6     11208  11284    86440.452056\n",
       "7     11209   8451   173187.026742\n",
       "8     11210   8540   119467.800585\n",
       "9     11211   5462   249301.736726\n",
       "10    11212   6578   166426.244147\n",
       "11    11213   5076   169621.154846\n",
       "12    11214   9513   127064.431515\n",
       "13    11215   9056   169718.446996\n",
       "14    11216   6113   125110.447571\n",
       "15    11217   4035   483297.803470\n",
       "16    11218   6905   130887.364084\n",
       "17    11219   8656   140740.943392\n",
       "18    11220   9015   134545.878092\n",
       "19    11221   9186    90601.832571\n",
       "20    11222   5311   203406.643758\n",
       "21    11223  10322   103472.525092\n",
       "22    11224   2798   309679.677984\n",
       "23    11225   3920   219101.944898\n",
       "24    11226   5336   259168.549288\n",
       "25    11228   7857    67127.979381\n",
       "26    11229  12063   308220.279035\n",
       "27    11230   7987   148870.195317\n",
       "28    11231   4838   187081.372881\n",
       "29    11232   2946   386084.401222\n",
       "30    11233   8014    83359.828800\n",
       "31    11234  19318   154839.124599\n",
       "32    11235   7941   216932.072661\n",
       "33    11236  14612    77653.764919\n",
       "34    11237   4390   152954.290205\n",
       "35    11238   4876   265260.626743\n",
       "36    11249   1561   714632.458040"
      ]
     },
     "execution_count": 143,
     "metadata": {},
     "output_type": "execute_result"
    }
   ],
   "source": [
    "MeanAssessbyZip"
   ]
  },
  {
   "cell_type": "code",
   "execution_count": 144,
   "metadata": {
    "collapsed": true
   },
   "outputs": [],
   "source": [
    "#Part C - for all zipcodes (not just ones with 1000 or more observations), \n",
    "#find the slope coefficient for each Zipcode \n",
    "#Use the log of the Assess Total and the Lot Area"
   ]
  },
  {
   "cell_type": "code",
   "execution_count": 159,
   "metadata": {
    "collapsed": false
   },
   "outputs": [
    {
     "name": "stdout",
     "output_type": "stream",
     "text": [
      "\n",
      "ZipCode 11201\n",
      "Slope Coefficient 1.40566238998\n",
      "\n",
      "ZipCode 11217\n",
      "Slope Coefficient 1.41572985696\n",
      "\n",
      "ZipCode 11241\n",
      "Slope Coefficient 1.78846614285\n",
      "\n",
      "ZipCode 11231\n",
      "Slope Coefficient 1.13532306805\n",
      "\n",
      "ZipCode 11215\n",
      "Slope Coefficient 1.54101337176\n",
      "\n",
      "ZipCode 11232\n",
      "Slope Coefficient 1.37867527557\n",
      "\n",
      "ZipCode 11220\n",
      "Slope Coefficient 1.50079296563\n",
      "\n",
      "ZipCode 11218\n",
      "Slope Coefficient 1.2825529719\n",
      "\n",
      "ZipCode 11238\n",
      "Slope Coefficient 1.62155780044\n",
      "\n",
      "ZipCode 11226\n",
      "Slope Coefficient 1.38624748791\n",
      "\n",
      "ZipCode 11225\n",
      "Slope Coefficient 1.57818700108\n",
      "\n",
      "ZipCode 11216\n",
      "Slope Coefficient 1.64911328535\n",
      "\n",
      "ZipCode 11213\n",
      "Slope Coefficient 1.58430381989\n",
      "\n",
      "ZipCode 11203\n",
      "Slope Coefficient 1.39184882177\n",
      "\n",
      "ZipCode 11233\n",
      "Slope Coefficient 1.52139364215\n",
      "\n",
      "ZipCode 11212\n",
      "Slope Coefficient 1.48499248413\n",
      "\n",
      "ZipCode 11221\n",
      "Slope Coefficient 1.59281394386\n",
      "\n",
      "ZipCode 11207\n",
      "Slope Coefficient 1.34199102675\n",
      "\n",
      "ZipCode 11206\n",
      "Slope Coefficient 1.48736635053\n",
      "\n",
      "ZipCode 11205\n",
      "Slope Coefficient 1.50368285463\n",
      "\n",
      "ZipCode 11251\n",
      "Slope Coefficient 1.16982951091\n",
      "\n",
      "ZipCode 11249\n",
      "Slope Coefficient 1.24201538781\n",
      "\n",
      "ZipCode 11211\n",
      "Slope Coefficient 1.4121424698\n",
      "\n",
      "ZipCode 11237\n",
      "Slope Coefficient 1.36836906802\n",
      "\n",
      "ZipCode 11222\n",
      "Slope Coefficient 1.15919644417\n",
      "\n",
      "ZipCode 11236\n",
      "Slope Coefficient 1.11844318796\n",
      "\n",
      "ZipCode 11208\n",
      "Slope Coefficient 1.16459274231\n",
      "\n",
      "ZipCode 11416\n",
      "Slope Coefficient 0.250631196931\n",
      "\n",
      "ZipCode 11239\n",
      "Slope Coefficient 1.30176424067\n",
      "\n",
      "ZipCode 11234\n",
      "Slope Coefficient 1.01963639501\n",
      "\n",
      "ZipCode 11210\n",
      "Slope Coefficient 1.24589890036\n",
      "\n",
      "ZipCode 11230\n",
      "Slope Coefficient 1.3062454563\n",
      "\n",
      "ZipCode 11229\n",
      "Slope Coefficient 1.33650586471\n",
      "\n",
      "ZipCode 11219\n",
      "Slope Coefficient 1.45294452387\n",
      "\n",
      "ZipCode 11204\n",
      "Slope Coefficient 1.28016560775\n",
      "\n",
      "ZipCode 11209\n",
      "Slope Coefficient 1.24975116759\n",
      "\n",
      "ZipCode 11228\n",
      "Slope Coefficient 0.923341730449\n",
      "\n",
      "ZipCode 11214\n",
      "Slope Coefficient 1.11820720449\n",
      "\n",
      "ZipCode 11223\n",
      "Slope Coefficient 1.25881960049\n",
      "\n",
      "ZipCode 11224\n",
      "Slope Coefficient 1.05739862789\n",
      "\n",
      "ZipCode 11235\n",
      "Slope Coefficient 1.29918927061\n"
     ]
    }
   ],
   "source": [
    "Scaling = []\n",
    "for ZipCode in UniqueZips:\n",
    "    print\"\\nZipCode\", int(ZipCode)\n",
    "    #run OLS using SMF\n",
    "    lm = smf.ols(formula = 'log_AssessTot ~ log_LotArea', data = data_4[data_4['ZipCode'] == ZipCode]).fit()\n",
    "    print \"Slope Coefficient\", lm.params[1]\n",
    "    Scaling.append([ZipCode, lm.params[1]])"
   ]
  },
  {
   "cell_type": "code",
   "execution_count": null,
   "metadata": {
    "collapsed": false
   },
   "outputs": [],
   "source": []
  },
  {
   "cell_type": "code",
   "execution_count": 165,
   "metadata": {
    "collapsed": false
   },
   "outputs": [
    {
     "data": {
      "text/html": [
       "<div>\n",
       "<table border=\"1\" class=\"dataframe\">\n",
       "  <thead>\n",
       "    <tr style=\"text-align: right;\">\n",
       "      <th></th>\n",
       "      <th>Zipcode</th>\n",
       "      <th>SlopeCoefficient</th>\n",
       "    </tr>\n",
       "  </thead>\n",
       "  <tbody>\n",
       "    <tr>\n",
       "      <th>0</th>\n",
       "      <td>11201</td>\n",
       "      <td>1.405662</td>\n",
       "    </tr>\n",
       "    <tr>\n",
       "      <th>1</th>\n",
       "      <td>11217</td>\n",
       "      <td>1.415730</td>\n",
       "    </tr>\n",
       "    <tr>\n",
       "      <th>2</th>\n",
       "      <td>11241</td>\n",
       "      <td>1.788466</td>\n",
       "    </tr>\n",
       "    <tr>\n",
       "      <th>3</th>\n",
       "      <td>11231</td>\n",
       "      <td>1.135323</td>\n",
       "    </tr>\n",
       "    <tr>\n",
       "      <th>4</th>\n",
       "      <td>11215</td>\n",
       "      <td>1.541013</td>\n",
       "    </tr>\n",
       "    <tr>\n",
       "      <th>5</th>\n",
       "      <td>11232</td>\n",
       "      <td>1.378675</td>\n",
       "    </tr>\n",
       "    <tr>\n",
       "      <th>6</th>\n",
       "      <td>11220</td>\n",
       "      <td>1.500793</td>\n",
       "    </tr>\n",
       "    <tr>\n",
       "      <th>7</th>\n",
       "      <td>11218</td>\n",
       "      <td>1.282553</td>\n",
       "    </tr>\n",
       "    <tr>\n",
       "      <th>8</th>\n",
       "      <td>11238</td>\n",
       "      <td>1.621558</td>\n",
       "    </tr>\n",
       "    <tr>\n",
       "      <th>9</th>\n",
       "      <td>11226</td>\n",
       "      <td>1.386247</td>\n",
       "    </tr>\n",
       "    <tr>\n",
       "      <th>10</th>\n",
       "      <td>11225</td>\n",
       "      <td>1.578187</td>\n",
       "    </tr>\n",
       "    <tr>\n",
       "      <th>11</th>\n",
       "      <td>11216</td>\n",
       "      <td>1.649113</td>\n",
       "    </tr>\n",
       "    <tr>\n",
       "      <th>12</th>\n",
       "      <td>11213</td>\n",
       "      <td>1.584304</td>\n",
       "    </tr>\n",
       "    <tr>\n",
       "      <th>13</th>\n",
       "      <td>11203</td>\n",
       "      <td>1.391849</td>\n",
       "    </tr>\n",
       "    <tr>\n",
       "      <th>14</th>\n",
       "      <td>11233</td>\n",
       "      <td>1.521394</td>\n",
       "    </tr>\n",
       "    <tr>\n",
       "      <th>15</th>\n",
       "      <td>11212</td>\n",
       "      <td>1.484992</td>\n",
       "    </tr>\n",
       "    <tr>\n",
       "      <th>16</th>\n",
       "      <td>11221</td>\n",
       "      <td>1.592814</td>\n",
       "    </tr>\n",
       "    <tr>\n",
       "      <th>17</th>\n",
       "      <td>11207</td>\n",
       "      <td>1.341991</td>\n",
       "    </tr>\n",
       "    <tr>\n",
       "      <th>18</th>\n",
       "      <td>11206</td>\n",
       "      <td>1.487366</td>\n",
       "    </tr>\n",
       "    <tr>\n",
       "      <th>19</th>\n",
       "      <td>11205</td>\n",
       "      <td>1.503683</td>\n",
       "    </tr>\n",
       "    <tr>\n",
       "      <th>20</th>\n",
       "      <td>11251</td>\n",
       "      <td>1.169830</td>\n",
       "    </tr>\n",
       "    <tr>\n",
       "      <th>21</th>\n",
       "      <td>11249</td>\n",
       "      <td>1.242015</td>\n",
       "    </tr>\n",
       "    <tr>\n",
       "      <th>22</th>\n",
       "      <td>11211</td>\n",
       "      <td>1.412142</td>\n",
       "    </tr>\n",
       "    <tr>\n",
       "      <th>23</th>\n",
       "      <td>11237</td>\n",
       "      <td>1.368369</td>\n",
       "    </tr>\n",
       "    <tr>\n",
       "      <th>24</th>\n",
       "      <td>11222</td>\n",
       "      <td>1.159196</td>\n",
       "    </tr>\n",
       "    <tr>\n",
       "      <th>25</th>\n",
       "      <td>11236</td>\n",
       "      <td>1.118443</td>\n",
       "    </tr>\n",
       "    <tr>\n",
       "      <th>26</th>\n",
       "      <td>11208</td>\n",
       "      <td>1.164593</td>\n",
       "    </tr>\n",
       "    <tr>\n",
       "      <th>27</th>\n",
       "      <td>11416</td>\n",
       "      <td>0.250631</td>\n",
       "    </tr>\n",
       "    <tr>\n",
       "      <th>28</th>\n",
       "      <td>11239</td>\n",
       "      <td>1.301764</td>\n",
       "    </tr>\n",
       "    <tr>\n",
       "      <th>29</th>\n",
       "      <td>11234</td>\n",
       "      <td>1.019636</td>\n",
       "    </tr>\n",
       "    <tr>\n",
       "      <th>30</th>\n",
       "      <td>11210</td>\n",
       "      <td>1.245899</td>\n",
       "    </tr>\n",
       "    <tr>\n",
       "      <th>31</th>\n",
       "      <td>11230</td>\n",
       "      <td>1.306245</td>\n",
       "    </tr>\n",
       "    <tr>\n",
       "      <th>32</th>\n",
       "      <td>11229</td>\n",
       "      <td>1.336506</td>\n",
       "    </tr>\n",
       "    <tr>\n",
       "      <th>33</th>\n",
       "      <td>11219</td>\n",
       "      <td>1.452945</td>\n",
       "    </tr>\n",
       "    <tr>\n",
       "      <th>34</th>\n",
       "      <td>11204</td>\n",
       "      <td>1.280166</td>\n",
       "    </tr>\n",
       "    <tr>\n",
       "      <th>35</th>\n",
       "      <td>11209</td>\n",
       "      <td>1.249751</td>\n",
       "    </tr>\n",
       "    <tr>\n",
       "      <th>36</th>\n",
       "      <td>11228</td>\n",
       "      <td>0.923342</td>\n",
       "    </tr>\n",
       "    <tr>\n",
       "      <th>37</th>\n",
       "      <td>11214</td>\n",
       "      <td>1.118207</td>\n",
       "    </tr>\n",
       "    <tr>\n",
       "      <th>38</th>\n",
       "      <td>11223</td>\n",
       "      <td>1.258820</td>\n",
       "    </tr>\n",
       "    <tr>\n",
       "      <th>39</th>\n",
       "      <td>11224</td>\n",
       "      <td>1.057399</td>\n",
       "    </tr>\n",
       "    <tr>\n",
       "      <th>40</th>\n",
       "      <td>11235</td>\n",
       "      <td>1.299189</td>\n",
       "    </tr>\n",
       "  </tbody>\n",
       "</table>\n",
       "</div>"
      ],
      "text/plain": [
       "    Zipcode  SlopeCoefficient\n",
       "0     11201          1.405662\n",
       "1     11217          1.415730\n",
       "2     11241          1.788466\n",
       "3     11231          1.135323\n",
       "4     11215          1.541013\n",
       "5     11232          1.378675\n",
       "6     11220          1.500793\n",
       "7     11218          1.282553\n",
       "8     11238          1.621558\n",
       "9     11226          1.386247\n",
       "10    11225          1.578187\n",
       "11    11216          1.649113\n",
       "12    11213          1.584304\n",
       "13    11203          1.391849\n",
       "14    11233          1.521394\n",
       "15    11212          1.484992\n",
       "16    11221          1.592814\n",
       "17    11207          1.341991\n",
       "18    11206          1.487366\n",
       "19    11205          1.503683\n",
       "20    11251          1.169830\n",
       "21    11249          1.242015\n",
       "22    11211          1.412142\n",
       "23    11237          1.368369\n",
       "24    11222          1.159196\n",
       "25    11236          1.118443\n",
       "26    11208          1.164593\n",
       "27    11416          0.250631\n",
       "28    11239          1.301764\n",
       "29    11234          1.019636\n",
       "30    11210          1.245899\n",
       "31    11230          1.306245\n",
       "32    11229          1.336506\n",
       "33    11219          1.452945\n",
       "34    11204          1.280166\n",
       "35    11209          1.249751\n",
       "36    11228          0.923342\n",
       "37    11214          1.118207\n",
       "38    11223          1.258820\n",
       "39    11224          1.057399\n",
       "40    11235          1.299189"
      ]
     },
     "execution_count": 165,
     "metadata": {},
     "output_type": "execute_result"
    }
   ],
   "source": [
    "dfScaling = pd.DataFrame(Scaling)\n",
    "dfScaling.rename(columns = {0:'Zipcode', 1:'SlopeCoefficient'}, inplace=True)\n",
    "dfScaling"
   ]
  },
  {
   "cell_type": "code",
   "execution_count": 166,
   "metadata": {
    "collapsed": true
   },
   "outputs": [],
   "source": [
    "#D - Find the zipcodes with the largest scaling"
   ]
  },
  {
   "cell_type": "code",
   "execution_count": 167,
   "metadata": {
    "collapsed": false
   },
   "outputs": [
    {
     "data": {
      "text/html": [
       "<div>\n",
       "<table border=\"1\" class=\"dataframe\">\n",
       "  <thead>\n",
       "    <tr style=\"text-align: right;\">\n",
       "      <th></th>\n",
       "      <th>Zipcode</th>\n",
       "      <th>SlopeCoefficient</th>\n",
       "    </tr>\n",
       "  </thead>\n",
       "  <tbody>\n",
       "    <tr>\n",
       "      <th>2</th>\n",
       "      <td>11241</td>\n",
       "      <td>1.788466</td>\n",
       "    </tr>\n",
       "    <tr>\n",
       "      <th>11</th>\n",
       "      <td>11216</td>\n",
       "      <td>1.649113</td>\n",
       "    </tr>\n",
       "    <tr>\n",
       "      <th>8</th>\n",
       "      <td>11238</td>\n",
       "      <td>1.621558</td>\n",
       "    </tr>\n",
       "    <tr>\n",
       "      <th>16</th>\n",
       "      <td>11221</td>\n",
       "      <td>1.592814</td>\n",
       "    </tr>\n",
       "    <tr>\n",
       "      <th>12</th>\n",
       "      <td>11213</td>\n",
       "      <td>1.584304</td>\n",
       "    </tr>\n",
       "  </tbody>\n",
       "</table>\n",
       "</div>"
      ],
      "text/plain": [
       "    Zipcode  SlopeCoefficient\n",
       "2     11241          1.788466\n",
       "11    11216          1.649113\n",
       "8     11238          1.621558\n",
       "16    11221          1.592814\n",
       "12    11213          1.584304"
      ]
     },
     "execution_count": 167,
     "metadata": {},
     "output_type": "execute_result"
    }
   ],
   "source": [
    "dfScaling.sort_values(by=\"SlopeCoefficient\",ascending=False)[0:5]"
   ]
  },
  {
   "cell_type": "code",
   "execution_count": null,
   "metadata": {
    "collapsed": true
   },
   "outputs": [],
   "source": []
  }
 ],
 "metadata": {
  "kernelspec": {
   "display_name": "Python 2",
   "language": "python",
   "name": "python2"
  },
  "language_info": {
   "codemirror_mode": {
    "name": "ipython",
    "version": 2
   },
   "file_extension": ".py",
   "mimetype": "text/x-python",
   "name": "python",
   "nbconvert_exporter": "python",
   "pygments_lexer": "ipython2",
   "version": "2.7.10"
  }
 },
 "nbformat": 4,
 "nbformat_minor": 0
}
